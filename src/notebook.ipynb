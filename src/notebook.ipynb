{
 "cells": [
  {
   "cell_type": "markdown",
   "metadata": {},
   "source": [
    "## Libraries"
   ]
  },
  {
   "cell_type": "code",
   "execution_count": 1,
   "metadata": {},
   "outputs": [],
   "source": [
    "%load_ext autoreload\n",
    "%autoreload 2"
   ]
  },
  {
   "cell_type": "code",
   "execution_count": 2,
   "metadata": {},
   "outputs": [
    {
     "name": "stderr",
     "output_type": "stream",
     "text": [
      "[nltk_data] Downloading package wordnet to\n",
      "[nltk_data]     C:\\Users\\difj6\\AppData\\Roaming\\nltk_data...\n",
      "[nltk_data]   Package wordnet is already up-to-date!\n",
      "[nltk_data] Downloading package omw-1.4 to\n",
      "[nltk_data]     C:\\Users\\difj6\\AppData\\Roaming\\nltk_data...\n",
      "[nltk_data]   Package omw-1.4 is already up-to-date!\n",
      "[nltk_data] Downloading package stopwords to\n",
      "[nltk_data]     C:\\Users\\difj6\\AppData\\Roaming\\nltk_data...\n",
      "[nltk_data]   Package stopwords is already up-to-date!\n",
      "c:\\Users\\difj6\\OneDrive - Syddansk Universitet\\Documents\\Uni\\7. semester\\DM873 Deep learning\\Project2\\.venv\\lib\\site-packages\\tqdm\\auto.py:21: TqdmWarning: IProgress not found. Please update jupyter and ipywidgets. See https://ipywidgets.readthedocs.io/en/stable/user_install.html\n",
      "  from .autonotebook import tqdm as notebook_tqdm\n"
     ]
    }
   ],
   "source": [
    "from collections import Counter\n",
    "from collections import defaultdict\n",
    "from itertools import chain\n",
    "import matplotlib.pyplot as plt\n",
    "import pandas as pd\n",
    "import numpy as np\n",
    "from nltk.tokenize import RegexpTokenizer\n",
    "from nltk.corpus import stopwords\n",
    "from nltk.stem import PorterStemmer\n",
    "import nltk\n",
    "nltk.download('wordnet')  # downloads WordNet data\n",
    "nltk.download('omw-1.4')  # downloads additional wordnet data for lemmatization\n",
    "nltk.download('stopwords')  # downloads stopwords (if not already downloaded)\n",
    "from sklearn.metrics import (\n",
    "    accuracy_score,\n",
    "    f1_score,\n",
    "    precision_score,\n",
    "    recall_score,\n",
    ")\n",
    "from wordcloud import WordCloud\n",
    "import torch\n",
    "import torch.nn as nn\n",
    "from torch.utils.data import DataLoader\n",
    "from datasets import Dataset\n",
    "from transformers import (\n",
    "    AutoTokenizer,\n",
    "    AutoModelForSequenceClassification,\n",
    "    Trainer,\n",
    "    TrainingArguments,\n",
    ")\n",
    "\n",
    "from emotion_dataset import EmotionDataset\n",
    "from loader import loader\n",
    "from train_model import train_model\n",
    "from plot_scores import plot_scores\n",
    "from predict import predict\n",
    "from predict_on_fly import predict_on_fly\n",
    "from metrics import compute_metrics, print_metrics, save_metrics\n",
    "import transformer_model"
   ]
  },
  {
   "cell_type": "markdown",
   "metadata": {},
   "source": [
    "## Device"
   ]
  },
  {
   "cell_type": "code",
   "execution_count": 3,
   "metadata": {},
   "outputs": [
    {
     "name": "stdout",
     "output_type": "stream",
     "text": [
      "Using cuda\n"
     ]
    }
   ],
   "source": [
    "device = torch.device(\"cuda\" if torch.cuda.is_available() else \"cpu\")\n",
    "print(f\"Using {device}\")"
   ]
  },
  {
   "cell_type": "markdown",
   "metadata": {},
   "source": [
    "## Load and save dataset"
   ]
  },
  {
   "cell_type": "code",
   "execution_count": 4,
   "metadata": {},
   "outputs": [],
   "source": [
    "train_csv_path = \"data/train.csv\"\n",
    "val_csv_path = \"data/val.csv\"\n",
    "test_csv_path = \"data/test.csv\"\n",
    "\n",
    "train_df, val_df, test_df = loader(train_csv_path, val_csv_path, test_csv_path)"
   ]
  },
  {
   "cell_type": "markdown",
   "metadata": {},
   "source": [
    "# Task 1: Data Preparation"
   ]
  },
  {
   "cell_type": "markdown",
   "metadata": {},
   "source": [
    "## Data set"
   ]
  },
  {
   "cell_type": "code",
   "execution_count": 5,
   "metadata": {},
   "outputs": [
    {
     "name": "stdout",
     "output_type": "stream",
     "text": [
      "# train sentences: 16000\n",
      "# validation sentences: 2000\n",
      "# test sentences: 2000\n",
      "                                                    text  label label_name\n",
      "0                                i didnt feel humiliated      0    sadness\n",
      "1      i can go from feeling so hopeless to so damned...      0    sadness\n",
      "2       im grabbing a minute to post i feel greedy wrong      3      anger\n",
      "3      i am ever feeling nostalgic about the fireplac...      2       love\n",
      "4                                   i am feeling grouchy      3      anger\n",
      "...                                                  ...    ...        ...\n",
      "15995  i just had a very brief time in the beanbag an...      0    sadness\n",
      "15996  i am now turning and i feel pathetic that i am...      0    sadness\n",
      "15997                     i feel strong and good overall      1        joy\n",
      "15998  i feel like this was such a rude comment and i...      3      anger\n",
      "15999  i know a lot but i feel so stupid because i ca...      0    sadness\n",
      "\n",
      "[16000 rows x 3 columns]\n"
     ]
    }
   ],
   "source": [
    "# Print number of examples\n",
    "print(f\"# train sentences: {len(train_df)}\")\n",
    "print(f\"# validation sentences: {len(val_df)}\")\n",
    "print(f\"# test sentences: {len(test_df)}\")\n",
    "\n",
    "# Print labels names\n",
    "print(train_df)"
   ]
  },
  {
   "cell_type": "markdown",
   "metadata": {},
   "source": [
    "## Step 1: Dataset Preparation"
   ]
  },
  {
   "cell_type": "markdown",
   "metadata": {},
   "source": [
    "### Label distribution"
   ]
  },
  {
   "cell_type": "code",
   "execution_count": 6,
   "metadata": {},
   "outputs": [
    {
     "name": "stdout",
     "output_type": "stream",
     "text": [
      "Number of classes: 6\n",
      "\n",
      "Training Label Distribution:\n",
      "label_name\n",
      "joy         5362\n",
      "sadness     4666\n",
      "anger       2159\n",
      "fear        1937\n",
      "love        1304\n",
      "surprise     572\n",
      "Name: count, dtype: int64\n"
     ]
    },
    {
     "data": {
      "image/png": "[encoded data removed]",
      "text/plain": [
       "<Figure size 230x150 with 1 Axes>"
      ]
     },
     "metadata": {},
     "output_type": "display_data"
    }
   ],
   "source": [
    "# Create a mapper for label numbers to text labels\n",
    "num_classes = len(train_df[\"label\"].unique())\n",
    "print(f\"Number of classes: {num_classes}\")\n",
    "\n",
    "# Print the label distribution for training set\n",
    "train_label_counts = train_df[\"label_name\"].value_counts()\n",
    "print(\"\\nTraining Label Distribution:\")\n",
    "print(train_label_counts)\n",
    "\n",
    "# Plot the label distribution\n",
    "plt.figure(figsize=(2.3, 1.5))\n",
    "train_label_counts.plot(kind=\"bar\")\n",
    "plt.title(\"Training Label Distribution\")\n",
    "plt.xlabel(\"Labels\")\n",
    "plt.ylabel(\"Count\")\n",
    "plt.xticks(rotation=45)\n",
    "plt.show()"
   ]
  },
  {
   "cell_type": "markdown",
   "metadata": {},
   "source": [
    "## Step 2: Tokenizing"
   ]
  },
  {
   "cell_type": "markdown",
   "metadata": {},
   "source": [
    "### Tokenizer"
   ]
  },
  {
   "cell_type": "code",
   "execution_count": 7,
   "metadata": {},
   "outputs": [
    {
     "name": "stdout",
     "output_type": "stream",
     "text": [
      "['This', '?', 'is', 'a', 'cu', 'stom', 'tokenization', 'example', '!']\n"
     ]
    }
   ],
   "source": [
    "tokenizer = RegexpTokenizer(r\"[a-zA-Z]+|[!?'´`]+\") # sequence that don’t match the pattern act as separators.\n",
    "example_sentence = \"This?.is,a:cu123stom;tokenization example!<\"\n",
    "example_tokens = tokenizer.tokenize(example_sentence)\n",
    "print(example_tokens)"
   ]
  },
  {
   "cell_type": "markdown",
   "metadata": {},
   "source": [
    "### Tokenize each split"
   ]
  },
  {
   "cell_type": "code",
   "execution_count": 8,
   "metadata": {},
   "outputs": [
    {
     "name": "stdout",
     "output_type": "stream",
     "text": [
      "# words in train vocab: 15212\n"
     ]
    }
   ],
   "source": [
    "train_tokens = [tokenizer.tokenize(text.lower()) for text in train_df[\"text\"]]\n",
    "val_tokens = [tokenizer.tokenize(text.lower()) for text in val_df[\"text\"]]\n",
    "test_tokens = [tokenizer.tokenize(text.lower()) for text in test_df[\"text\"]]\n",
    "\n",
    "train_vocab = set(token for tokens in train_tokens for token in tokens)\n",
    "\n",
    "print(f\"# words in train vocab: {len(train_vocab)}\")"
   ]
  },
  {
   "cell_type": "markdown",
   "metadata": {},
   "source": [
    "### Word frequency"
   ]
  },
  {
   "cell_type": "code",
   "execution_count": 9,
   "metadata": {},
   "outputs": [
    {
     "name": "stdout",
     "output_type": "stream",
     "text": [
      "   Class    Word  Count\n",
      " sadness       i   7635\n",
      " sadness    feel   3299\n",
      " sadness     and   2692\n",
      " sadness      to   2335\n",
      " sadness     the   2155\n",
      " sadness       a   1656\n",
      " sadness feeling   1523\n",
      " sadness      of   1422\n",
      " sadness    that   1299\n",
      " sadness      my   1245\n",
      "   anger       i   3576\n",
      "   anger    feel   1459\n",
      "   anger     and   1258\n",
      "   anger      to   1162\n",
      "   anger     the   1109\n",
      "   anger       a    791\n",
      "   anger feeling    721\n",
      "   anger    that    705\n",
      "   anger      of    630\n",
      "   anger      my    573\n",
      "    love       i   2120\n",
      "    love    feel    929\n",
      "    love     and    902\n",
      "    love      to    860\n",
      "    love     the    780\n",
      "    love       a    571\n",
      "    love      of    482\n",
      "    love    that    460\n",
      "    love      my    399\n",
      "    love feeling    378\n",
      "surprise       i    927\n",
      "surprise    feel    356\n",
      "surprise     and    354\n",
      "surprise     the    335\n",
      "surprise      to    267\n",
      "surprise       a    256\n",
      "surprise    that    212\n",
      "surprise feeling    209\n",
      "surprise      of    191\n",
      "surprise      my    163\n",
      "    fear       i   3083\n",
      "    fear    feel   1212\n",
      "    fear      to   1116\n",
      "    fear     and   1110\n",
      "    fear     the   1000\n",
      "    fear       a    806\n",
      "    fear feeling    742\n",
      "    fear      of    614\n",
      "    fear    that    531\n",
      "    fear      my    525\n",
      "     joy       i   8518\n",
      "     joy    feel   3928\n",
      "     joy     and   3273\n",
      "     joy      to   3232\n",
      "     joy     the   2991\n",
      "     joy       a   2120\n",
      "     joy    that   1905\n",
      "     joy      of   1651\n",
      "     joy feeling   1539\n",
      "     joy      my   1378\n"
     ]
    }
   ],
   "source": [
    "def get_top_words_per_class(tokens_in, top_n=10):\n",
    "    tokens_by_class = defaultdict(list)\n",
    "    for tokens, label in zip(tokens_in, train_df[\"label_name\"]):\n",
    "        tokens_by_class[label].append(tokens)\n",
    "    tokens_by_class = dict(tokens_by_class)\n",
    "    results = []\n",
    "    for class_label, tokens in tokens_by_class.items():\n",
    "        flat_tokens = list(chain.from_iterable(tokens))\n",
    "        most_common = Counter(flat_tokens).most_common(top_n)\n",
    "        for word, count in most_common:\n",
    "            results.append({\"Class\": class_label, \"Word\": word, \"Count\": count})\n",
    "    return pd.DataFrame(results)\n",
    "\n",
    "print(get_top_words_per_class(train_tokens, top_n=10).to_string(index=False))"
   ]
  },
  {
   "cell_type": "markdown",
   "metadata": {},
   "source": [
    "### Data cleaning (remove stopwords and stem)"
   ]
  },
  {
   "cell_type": "code",
   "execution_count": 10,
   "metadata": {},
   "outputs": [
    {
     "name": "stdout",
     "output_type": "stream",
     "text": [
      "   Class      Word  Count\n",
      " sadness      feel   4994\n",
      " sadness      like    881\n",
      " sadness        im    683\n",
      " sadness      know    297\n",
      " sadness       get    284\n",
      " sadness    realli    276\n",
      " sadness      time    271\n",
      " sadness      make    245\n",
      " sadness      want    244\n",
      " sadness        go    235\n",
      "   anger      feel   2261\n",
      "   anger      like    391\n",
      "   anger        im    342\n",
      "   anger       get    175\n",
      "   anger      time    140\n",
      "   anger      want    133\n",
      "   anger     irrit    128\n",
      "   anger    realli    124\n",
      "   anger      know    122\n",
      "   anger      hate    113\n",
      "    love      feel   1406\n",
      "    love      like    366\n",
      "    love      love    277\n",
      "    love        im    193\n",
      "    love   support    103\n",
      "    love    realli     92\n",
      "    love      know     89\n",
      "    love      want     89\n",
      "    love      time     82\n",
      "    love      care     82\n",
      "surprise      feel    601\n",
      "surprise      amaz    107\n",
      "surprise      like     92\n",
      "surprise        im     91\n",
      "surprise   impress     63\n",
      "surprise overwhelm     58\n",
      "surprise     weird     57\n",
      "surprise   surpris     56\n",
      "surprise    curiou     54\n",
      "surprise     funni     49\n",
      "    fear      feel   2025\n",
      "    fear        im    322\n",
      "    fear      like    264\n",
      "    fear     littl    149\n",
      "    fear        go    139\n",
      "    fear      know    136\n",
      "    fear       bit    118\n",
      "    fear      want    113\n",
      "    fear      time    110\n",
      "    fear       get    107\n",
      "     joy      feel   5674\n",
      "     joy      like   1023\n",
      "     joy        im    799\n",
      "     joy      make    381\n",
      "     joy      time    334\n",
      "     joy       get    322\n",
      "     joy        go    315\n",
      "     joy    realli    309\n",
      "     joy      want    272\n",
      "     joy      know    261\n"
     ]
    }
   ],
   "source": [
    "stemmer = nltk.PorterStemmer()\n",
    "stop_words = set(stopwords.words(\"english\"))\n",
    "\n",
    "train_tokens = [[stemmer.stem(word) for word in sentence if word not in stop_words] for sentence in train_tokens]\n",
    "val_tokens = [[stemmer.stem(word) for word in sentence if word not in stop_words] for sentence in val_tokens]\n",
    "test_tokens = [[stemmer.stem(word) for word in sentence if word not in stop_words] for sentence in test_tokens]\n",
    "\n",
    "print(get_top_words_per_class(train_tokens, top_n=10).to_string(index=False))"
   ]
  },
  {
   "cell_type": "markdown",
   "metadata": {},
   "source": [
    "### Remove additional words"
   ]
  },
  {
   "cell_type": "code",
   "execution_count": 11,
   "metadata": {},
   "outputs": [
    {
     "name": "stdout",
     "output_type": "stream",
     "text": [
      "   Word  Count\n",
      "   feel  16961\n",
      "   like   3017\n",
      "     im   2430\n",
      "    get    981\n",
      "   time    979\n",
      " realli    942\n",
      "   know    938\n",
      "   make    935\n",
      "     go    882\n",
      "   want    867\n",
      "   love    805\n",
      "  littl    736\n",
      "  think    736\n",
      "    day    675\n",
      "  thing    672\n",
      "  peopl    664\n",
      "    one    647\n",
      "  would    646\n",
      "   even    600\n",
      "  still    598\n",
      "    ive    587\n",
      "   life    555\n",
      "    way    528\n",
      "   need    521\n",
      "    bit    521\n",
      " someth    514\n",
      "   much    496\n",
      "   dont    482\n",
      "   work    471\n",
      "  could    453\n",
      "    say    450\n",
      "  start    445\n",
      "   look    423\n",
      "    see    419\n",
      "   back    414\n",
      "    tri    410\n",
      "   good    408\n",
      " pretti    392\n",
      "  right    357\n",
      "  alway    356\n",
      "   come    351\n",
      "   help    342\n",
      " friend    340\n",
      "   also    337\n",
      "   year    336\n",
      "  today    332\n",
      "    use    326\n",
      "   take    317\n",
      " around    315\n",
      " person    303\n",
      "   cant    301\n",
      "   made    296\n",
      "   hate    285\n",
      "   well    279\n",
      " though    274\n",
      "  happi    274\n",
      "  didnt    272\n",
      "    got    271\n",
      "  write    270\n",
      "   live    268\n",
      "   felt    266\n",
      "    lot    264\n",
      "  never    264\n",
      "thought    263\n",
      "   hope    261\n",
      " someon    259\n",
      "   find    259\n",
      "  everi    254\n",
      "   quit    250\n",
      "   read    246\n",
      "   less    246\n",
      "   sure    240\n",
      " enough    238\n",
      "   week    236\n",
      "   give    234\n",
      "   mani    232\n",
      "   kind    230\n",
      "   home    227\n",
      "   away    226\n",
      "support    224\n",
      "   long    222\n",
      "   ever    221\n",
      "  anyth    220\n",
      " actual    220\n",
      "   talk    215\n",
      " better    213\n",
      "   keep    212\n",
      "   left    211\n",
      "    let    210\n",
      "everyth    210\n",
      "without    209\n",
      " rememb    209\n",
      "   last    207\n",
      "   care    205\n",
      "   tell    205\n",
      "  world    205\n",
      " wonder    204\n",
      "sometim    201\n",
      "    new    199\n",
      "   http    199\n"
     ]
    }
   ],
   "source": [
    "word_freq = Counter(chain.from_iterable(train_tokens))\n",
    "pd.DataFrame(word_freq.items(), columns=[\"Word\", \"Count\"]).sort_values(by=\"Count\", ascending=False).to_csv(\"results/word_frequencies.csv\", index=False)\n",
    "print(pd.DataFrame(word_freq.most_common(100), columns=[\"Word\", \"Count\"]).to_string(index=False))"
   ]
  },
  {
   "cell_type": "code",
   "execution_count": 12,
   "metadata": {},
   "outputs": [
    {
     "name": "stdout",
     "output_type": "stream",
     "text": [
      "   Class      Word  Count\n",
      " sadness      like    881\n",
      " sadness       get    284\n",
      " sadness      time    271\n",
      " sadness      make    245\n",
      " sadness      want    244\n",
      " sadness        go    235\n",
      " sadness       day    224\n",
      " sadness     thing    221\n",
      " sadness       ive    217\n",
      " sadness     think    212\n",
      "   anger      like    391\n",
      "   anger       get    175\n",
      "   anger      time    140\n",
      "   anger      want    133\n",
      "   anger     irrit    128\n",
      "   anger      hate    113\n",
      "   anger     thing    109\n",
      "   anger      make    108\n",
      "   anger        go    108\n",
      "   anger     think    105\n",
      "    love      like    366\n",
      "    love      love    277\n",
      "    love   support    103\n",
      "    love      want     89\n",
      "    love      time     82\n",
      "    love      care     82\n",
      "    love      long     72\n",
      "    love       one     70\n",
      "    love       get     70\n",
      "    love     sweet     69\n",
      "surprise      amaz    107\n",
      "surprise      like     92\n",
      "surprise   impress     63\n",
      "surprise overwhelm     58\n",
      "surprise     weird     57\n",
      "surprise   surpris     56\n",
      "surprise    curiou     54\n",
      "surprise     funni     49\n",
      "surprise    strang     46\n",
      "surprise     shock     46\n",
      "    fear      like    264\n",
      "    fear     littl    149\n",
      "    fear        go    139\n",
      "    fear       bit    118\n",
      "    fear      want    113\n",
      "    fear      time    110\n",
      "    fear       get    107\n",
      "    fear      make    105\n",
      "    fear     think     94\n",
      "    fear     peopl     90\n",
      "     joy      like   1023\n",
      "     joy      make    381\n",
      "     joy      time    334\n",
      "     joy       get    322\n",
      "     joy        go    315\n",
      "     joy      want    272\n",
      "     joy      love    257\n",
      "     joy       day    241\n",
      "     joy     think    233\n",
      "     joy       one    211\n"
     ]
    }
   ],
   "source": [
    "additional_words_to_remove = [\"feel\", \"realli\", \"im\", \"know\", \"also\", \"http\"]\n",
    "\n",
    "train_tokens = [[word for word in sentence if word not in additional_words_to_remove] for sentence in train_tokens]\n",
    "val_tokens = [[word for word in sentence if word not in additional_words_to_remove] for sentence in val_tokens]\n",
    "test_tokens = [[word for word in sentence if word not in additional_words_to_remove] for sentence in test_tokens]\n",
    "\n",
    "print(get_top_words_per_class(train_tokens, top_n=10).to_string(index=False))"
   ]
  },
  {
   "cell_type": "code",
   "execution_count": 13,
   "metadata": {},
   "outputs": [
    {
     "data": {
      "image/png": "[encoded data removed]",
      "text/plain": [
       "<Figure size 500x300 with 1 Axes>"
      ]
     },
     "metadata": {},
     "output_type": "display_data"
    }
   ],
   "source": [
    "wordcloud = WordCloud(width=400, height=200, background_color=\"white\").generate(\" \".join(list(chain.from_iterable(train_tokens))))\n",
    "plt.figure(figsize=(5, 3))\n",
    "plt.imshow(wordcloud, interpolation=\"bilinear\")\n",
    "plt.axis(\"off\")\n",
    "plt.show()"
   ]
  },
  {
   "cell_type": "markdown",
   "metadata": {},
   "source": [
    "### Sentence length distribution"
   ]
  },
  {
   "cell_type": "code",
   "execution_count": 14,
   "metadata": {},
   "outputs": [
    {
     "name": "stdout",
     "output_type": "stream",
     "text": [
      "Length range for train: from 1 to 34 words\n",
      "Mean length for train: 8 words\n",
      "Standard deviation for train: 5\n"
     ]
    },
    {
     "data": {
      "image/png": "[encoded data removed]",
      "text/plain": [
       "<Figure size 300x120 with 1 Axes>"
      ]
     },
     "metadata": {},
     "output_type": "display_data"
    },
    {
     "data": {
      "image/png": "[encoded data removed]",
      "text/plain": [
       "<Figure size 230x150 with 1 Axes>"
      ]
     },
     "metadata": {},
     "output_type": "display_data"
    }
   ],
   "source": [
    "train_lengths = [len(tokens) for tokens in train_tokens]\n",
    "mean_length = np.mean(train_lengths)\n",
    "std_dev = np.std(train_lengths)\n",
    "\n",
    "print(f\"Length range for train: from {min(train_lengths)} to {max(train_lengths)} words\")\n",
    "print(f\"Mean length for train: {mean_length:.0f} words\")\n",
    "print(f\"Standard deviation for train: {std_dev:.0f}\")\n",
    "\n",
    "# Plot boxplot\n",
    "plt.figure(figsize=(3, 1.2))\n",
    "plt.boxplot(\n",
    "    train_lengths,\n",
    "    vert=False,\n",
    "    patch_artist=True,\n",
    "    boxprops=dict(facecolor=\"skyblue\", linewidth=2), # larger, colored box\n",
    "    whiskerprops=dict(linewidth=2),  # Thicker whiskers\n",
    "    medianprops=dict(color=\"red\", linewidth=2), # highlight the median\n",
    ")\n",
    "plt.title(\"Training Text Lengths\")\n",
    "plt.xlabel(\"Number of Words\")\n",
    "plt.yticks([])\n",
    "plt.show()\n",
    "\n",
    "# Plot distribution of lengths\n",
    "plt.figure(figsize=(2.3, 1.5))\n",
    "plt.hist(train_lengths, bins=30, color=\"skyblue\", edgecolor=\"black\")\n",
    "plt.title(\"Training Text Lengths\")\n",
    "plt.xlabel(\"Number of Words\")\n",
    "plt.ylabel(\"Count\")\n",
    "plt.show()"
   ]
  },
  {
   "cell_type": "markdown",
   "metadata": {},
   "source": [
    "### Set max and min length"
   ]
  },
  {
   "cell_type": "code",
   "execution_count": 15,
   "metadata": {},
   "outputs": [],
   "source": [
    "# Set max length for the model. If sentence is longer, truncate it. If shorter, pad it.\n",
    "# Set min length to remove very short sentences from the training set.\n",
    "max_length = 10\n",
    "min_length = 3\n",
    "\n",
    "train_labels = train_df[\"label\"].tolist()\n",
    "val_labels = val_df[\"label\"].tolist()\n",
    "\n",
    "train_tokens, train_labels = zip(\n",
    "    *[\n",
    "        (tokens, label)\n",
    "        for tokens, label in zip(train_tokens, train_labels)\n",
    "        if len(tokens) >= min_length\n",
    "    ]\n",
    ")\n",
    "\n",
    "# Convert back to lists\n",
    "train_tokens = list(train_tokens)\n",
    "train_labels = list(train_labels)"
   ]
  },
  {
   "cell_type": "markdown",
   "metadata": {},
   "source": [
    "## Step 3: Build a vocabulary"
   ]
  },
  {
   "cell_type": "code",
   "execution_count": 16,
   "metadata": {},
   "outputs": [
    {
     "name": "stdout",
     "output_type": "stream",
     "text": [
      "Vocabulary size: 10336\n"
     ]
    }
   ],
   "source": [
    "vocab = {\"<PAD>\": 0, \"<UNK>\": 1}\n",
    "for tokens in train_tokens:\n",
    "    for token in tokens:\n",
    "        if token not in vocab:\n",
    "            vocab[token] = len(vocab)\n",
    "\n",
    "vocab_size = len(vocab)\n",
    "print(f\"Vocabulary size: {vocab_size}\")\n",
    "\n",
    "reverse_vocab = {v: k for k, v in vocab.items()}"
   ]
  },
  {
   "cell_type": "markdown",
   "metadata": {},
   "source": [
    "## Step 4: Encode all texts with the vocabulary"
   ]
  },
  {
   "cell_type": "code",
   "execution_count": 17,
   "metadata": {},
   "outputs": [],
   "source": [
    "def encode_text(tokens): # i.e. words to integers\n",
    "    return [vocab[token] if token in vocab else 1 for token in tokens]\n",
    "\n",
    "train_encoded = [encode_text(tokens) for tokens in train_tokens]\n",
    "val_encoded = [encode_text(tokens) for tokens in val_tokens]\n",
    "test_encoded = [encode_text(tokens) for tokens in test_tokens]"
   ]
  },
  {
   "cell_type": "markdown",
   "metadata": {},
   "source": [
    "## Step 5: Maximum sequence length"
   ]
  },
  {
   "cell_type": "code",
   "execution_count": 18,
   "metadata": {},
   "outputs": [],
   "source": [
    "def pad_sequence(sequence):\n",
    "    return sequence[:max_length] + [0] * (max_length - len(sequence))\n",
    "\n",
    "train_padded = [pad_sequence(sequence) for sequence in train_encoded]\n",
    "val_padded = [pad_sequence(sequence) for sequence in val_encoded]\n",
    "test_padded = [pad_sequence(sequence) for sequence in test_encoded]"
   ]
  },
  {
   "cell_type": "markdown",
   "metadata": {},
   "source": [
    "# Task 2: RNN model"
   ]
  },
  {
   "cell_type": "code",
   "execution_count": 21,
   "metadata": {},
   "outputs": [],
   "source": [
    "batch_size = 16\n",
    "\n",
    "train_dataset = EmotionDataset(train_padded, train_labels)\n",
    "val_dataset = EmotionDataset(val_padded, val_labels)\n",
    "train_loader = DataLoader(train_dataset, batch_size=batch_size, shuffle=True)\n",
    "val_loader = DataLoader(val_dataset, batch_size=batch_size, shuffle=False)\n",
    "\n",
    "label_map = {label: name for label, name in enumerate(train_df[\"label_name\"].unique())}"
   ]
  },
  {
   "cell_type": "code",
   "execution_count": 19,
   "metadata": {},
   "outputs": [],
   "source": [
    "class RNN_LSTM_model(nn.Module):\n",
    "    def __init__(self, vocab_size, embedding_dim, hidden_dim, num_classes, padding_idx=0, num_layers=1, dropout_lstm=0.6, dropout_fc=0.6):\n",
    "        super(RNN_LSTM_model, self).__init__()\n",
    "        self.embedding = nn.Embedding(num_embeddings=vocab_size, embedding_dim=embedding_dim, padding_idx=padding_idx)\n",
    "        self.rnn = nn.LSTM(input_size=embedding_dim, hidden_size=hidden_dim, num_layers=num_layers, bias=True, batch_first=True, dropout=dropout_lstm, bidirectional=False)\n",
    "        self.fc = nn.Linear(hidden_dim, num_classes)\n",
    "        self.dropout = nn.Dropout(p=dropout_fc)\n",
    "        \n",
    "    def forward(self, x):\n",
    "        embedded = self.embedding(x)\n",
    "        output, _ = self.rnn(embedded)\n",
    "        last_hidden = output[:, -1, :]  # extract last hidden state for each sequence\n",
    "        last_hidden = self.dropout(last_hidden) # apply dropout to the last hidden state\n",
    "        logits = self.fc(last_hidden) # pass last hidden state through the fully connected layer\n",
    "        return logits"
   ]
  },
  {
   "cell_type": "code",
   "execution_count": null,
   "metadata": {},
   "outputs": [
    {
     "name": "stdout",
     "output_type": "stream",
     "text": [
      "Training model: lstm1\n"
     ]
    },
    {
     "name": "stderr",
     "output_type": "stream",
     "text": [
      "c:\\Users\\henri\\miniconda3\\envs\\deep\\Lib\\site-packages\\torch\\nn\\modules\\rnn.py:123: UserWarning: dropout option adds dropout after all but last recurrent layer, so non-zero dropout expects num_layers greater than 1, but got dropout=0.4 and num_layers=1\n",
      "  warnings.warn(\n"
     ]
    },
    {
     "name": "stdout",
     "output_type": "stream",
     "text": [
      "Epoch 1/5 (23s) | Train: loss 78.9857, acc 37.37%, f1 29.97% | Val: loss 1.3298, acc 50.65%, f1 42.67%\n",
      "Epoch 2/5 (24s) | Train: loss 18.4267, acc 62.32%, f1 60.24% | Val: loss 0.8564, acc 70.15%, f1 69.07%\n",
      "Epoch 3/5 (28s) | Train: loss 5.167, acc 73.49%, f1 72.83% | Val: loss 0.7579, acc 72.90%, f1 72.22%\n"
     ]
    }
   ],
   "source": [
    "# Define configurations for multiple models\n",
    "configurations = [\n",
    "    {\n",
    "        \"label\": \"lstm1\",\n",
    "        \"embedding_dim\": 100,\n",
    "        \"hidden_dim\": 256,\n",
    "        \"num_layers\": 1,\n",
    "        \"dropout_lstm\": 0.4,\n",
    "        \"dropout_fc\": 0.4,\n",
    "        \"optimizer_type\": \"AdamW\",\n",
    "        \"learning_rate\": 0.001,\n",
    "        \"weight_decay\": 0,\n",
    "        \"reg_type\": \"L2\",\n",
    "        \"reg_lambda\": 1e-4,\n",
    "        \"num_epochs\": 5,\n",
    "    },\n",
    "    {\n",
    "        \"label\": \"lstm2\",\n",
    "        \"embedding_dim\": 50,\n",
    "        \"hidden_dim\": 128,\n",
    "        \"num_layers\": 1,\n",
    "        \"dropout_lstm\": 0.5,\n",
    "        \"dropout_fc\": 0.5,\n",
    "        \"optimizer_type\": \"AdamW\",\n",
    "        \"learning_rate\": 0.0003,\n",
    "        \"weight_decay\": 0,\n",
    "        \"reg_type\": \"L2\",\n",
    "        \"reg_lambda\": 1e-4,\n",
    "        \"num_epochs\": 10,\n",
    "    },\n",
    "]\n",
    "for config in configurations:\n",
    "    print(f\"Training model: {config['label']}\")\n",
    "    model = RNN_LSTM_model(\n",
    "        vocab_size=vocab_size,\n",
    "        embedding_dim=config[\"embedding_dim\"],\n",
    "        hidden_dim=config[\"hidden_dim\"],\n",
    "        num_classes=num_classes,\n",
    "        padding_idx=0,\n",
    "        num_layers=config[\"num_layers\"],\n",
    "        dropout_lstm=config[\"dropout_lstm\"],\n",
    "        dropout_fc=config[\"dropout_lstm\"],\n",
    "    )\n",
    "    results = train_model(\n",
    "        label=config[\"label\"],\n",
    "        model=model,\n",
    "        train_loader=train_loader,\n",
    "        val_loader=val_loader,\n",
    "        label_map=label_map,\n",
    "        device=device,\n",
    "        optimizer_type=config[\"optimizer_type\"],\n",
    "        learning_rate=config[\"learning_rate\"],\n",
    "        weight_decay=config[\"weight_decay\"],\n",
    "        reg_type=config[\"reg_type\"],\n",
    "        reg_lambda=config[\"reg_lambda\"],\n",
    "        num_epochs=config[\"num_epochs\"],\n",
    "    )\n",
    "    plot_scores(results, config[\"label\"])"
   ]
  },
  {
   "cell_type": "code",
   "execution_count": null,
   "metadata": {},
   "outputs": [
    {
     "name": "stdout",
     "output_type": "stream",
     "text": [
      "Type 'q' to quit.\n",
      "Exiting...\n"
     ]
    }
   ],
   "source": [
    "predict_on_fly(\n",
    "    model=model,\n",
    "    tokenizer=tokenizer,\n",
    "    vocab=vocab,\n",
    "    device=device,\n",
    "    label_map=label_map,\n",
    "    max_length=max_length\n",
    ")"
   ]
  },
  {
   "cell_type": "markdown",
   "metadata": {},
   "source": [
    "# Task 3: Transformer model"
   ]
  },
  {
   "cell_type": "code",
   "execution_count": null,
   "metadata": {},
   "outputs": [
    {
     "name": "stdout",
     "output_type": "stream",
     "text": [
      "Training model: transformer1\n"
     ]
    }
   ],
   "source": [
    "batch_size = 32\n",
    "train_labels = train_df[\"label\"].tolist()\n",
    "val_labels = val_df[\"label\"].tolist()\n",
    "train_dataset = EmotionDataset(train_padded, train_labels)\n",
    "val_dataset = EmotionDataset(val_padded, val_labels)\n",
    "train_loader = DataLoader(train_dataset, batch_size=batch_size, shuffle=True)\n",
    "val_loader = DataLoader(val_dataset, batch_size=batch_size, shuffle=False)\n",
    "n_embeds = 10336\n",
    "num_epochs = 50\n",
    "configurations = [\n",
    "    # standard\n",
    "    {\n",
    "        \"label\": \"transformer1\",\n",
    "        \"d_key\": 64,\n",
    "        \"n_heads\": 8,\n",
    "        \"mlp_factor\": 4,\n",
    "        \"d_model\": 256,\n",
    "        \"n_layers\": 6,\n",
    "        \"dropout1\": 0,\n",
    "        \"dropout2\": 0,\n",
    "        \"optimizer_type\": \"Adam\",\n",
    "        \"learning_rate\": 0.001,\n",
    "        \"weight_decay\": 0,\n",
    "        \"reg_type\": \"L2\",\n",
    "        \"reg_lambda\": 1e-4,\n",
    "    },\n",
    "    # weight decay\n",
    "    {\n",
    "        \"label\": \"transformer2\",\n",
    "        \"d_key\": 64,\n",
    "        \"n_heads\": 8,\n",
    "        \"mlp_factor\": 4,\n",
    "        \"d_model\": 256,\n",
    "        \"n_layers\": 6,\n",
    "        \"dropout1\": 0,\n",
    "        \"dropout2\": 0,\n",
    "        \"optimizer_type\": \"AdamW\",\n",
    "        \"learning_rate\": 0.001,\n",
    "        \"weight_decay\": 0.001,\n",
    "        \"reg_type\": \"L2\",\n",
    "        \"reg_lambda\": 1e-4,\n",
    "    },\n",
    "    #dropout\n",
    "    {\n",
    "        \"label\": \"transformer3\",\n",
    "        \"d_key\": 64,\n",
    "        \"n_heads\": 8,\n",
    "        \"mlp_factor\": 4,\n",
    "        \"d_model\": 256,\n",
    "        \"n_layers\": 6,\n",
    "        \"dropout1\": 0.3,\n",
    "        \"dropout2\": 0.1,\n",
    "        \"optimizer_type\": \"Adam\",\n",
    "        \"learning_rate\": 0.001,\n",
    "        \"weight_decay\": 0,\n",
    "        \"reg_type\": \"L2\",\n",
    "        \"reg_lambda\": 1e-4,\n",
    "    },\n",
    "    # d_model lowered\n",
    "    {\n",
    "        \"label\": \"transformer4\",\n",
    "        \"d_key\": 64,\n",
    "        \"n_heads\": 8,\n",
    "        \"mlp_factor\": 4,\n",
    "        \"d_model\": 128,\n",
    "        \"n_layers\": 6,\n",
    "        \"dropout1\": 0,\n",
    "        \"dropout2\": 0,\n",
    "        \"optimizer_type\": \"Adam\",\n",
    "        \"learning_rate\": 0.001,\n",
    "        \"weight_decay\": 0,\n",
    "        \"reg_type\": \"L2\",\n",
    "        \"reg_lambda\": 1e-4,\n",
    "    },\n",
    "    # lowered mlp factor\n",
    "    {\n",
    "        \"label\": \"transformer5\",\n",
    "        \"d_key\": 64,\n",
    "        \"n_heads\": 8,\n",
    "        \"mlp_factor\": 1,\n",
    "        \"d_model\": 256,\n",
    "        \"n_layers\": 6,\n",
    "        \"dropout1\": 0,\n",
    "        \"dropout2\": 0,\n",
    "        \"optimizer_type\": \"Adam\",\n",
    "        \"learning_rate\": 0.001,\n",
    "        \"weight_decay\": 0,\n",
    "        \"reg_type\": \"L2\",\n",
    "        \"reg_lambda\": 1e-4,\n",
    "    },\n",
    "]\n",
    "for config in configurations:\n",
    "    print(f\"Training model: {config['label']}\")\n",
    "    model = transformer_model.TransformerClassifier(n_embeds=n_embeds, n_classes=6, d_model=config[\"d_model\"], d_key=config[\"d_key\"], n_heads=config[\"n_heads\"], mlp_factor=config[\"mlp_factor\"], n_layers=config[\"n_layers\"], device = device, dropout1=config[\"dropout1\"], dropout2=config[\"dropout2\"])\n",
    "    results = train_model(\n",
    "        label=config[\"label\"],\n",
    "        model=model,\n",
    "        train_loader=train_loader,\n",
    "        val_loader=val_loader,\n",
    "        label_map=label_map,\n",
    "        device=device,\n",
    "        optimizer_type=config[\"optimizer_type\"],\n",
    "        learning_rate=config[\"learning_rate\"],\n",
    "        weight_decay=config[\"weight_decay\"],\n",
    "        reg_type=config[\"reg_type\"],\n",
    "        reg_lambda=config[\"reg_lambda\"],\n",
    "        num_epochs=num_epochs,\n",
    "    )\n",
    "    plot_scores(results, config[\"label\"])"
   ]
  },
  {
   "cell_type": "markdown",
   "metadata": {},
   "source": [
    "# Task 4: Analysis"
   ]
  },
  {
   "cell_type": "code",
   "execution_count": null,
   "metadata": {},
   "outputs": [
    {
     "name": "stdout",
     "output_type": "stream",
     "text": [
      "accuracy: 0.38\n",
      "f1: 0.2998\n",
      "precision: 0.2785\n",
      "recall: 0.38\n",
      "classification report:\n",
      "              precision    recall  f1-score   support\n",
      "\n",
      "     sadness       0.30      0.29      0.29       581\n",
      "       anger       0.43      0.81      0.56       695\n",
      "        love       0.00      0.00      0.00       159\n",
      "    surprise       0.00      0.00      0.00       275\n",
      "        fear       0.24      0.13      0.17       224\n",
      "         joy       0.50      0.02      0.03        66\n",
      "\n",
      "    accuracy                           0.38      2000\n",
      "   macro avg       0.24      0.21      0.18      2000\n",
      "weighted avg       0.28      0.38      0.30      2000\n",
      "\n",
      "confusion matrix:\n",
      "[166, 399, 0, 0, 16, 0]\n",
      "[117, 563, 0, 0, 15, 0]\n",
      "[52, 89, 0, 0, 18, 0]\n",
      "[116, 141, 0, 0, 18, 0]\n",
      "[93, 99, 1, 0, 30, 1]\n",
      "[17, 19, 0, 0, 29, 1]\n",
      "\n"
     ]
    }
   ],
   "source": [
    "test_labels = test_df[\"label\"].tolist()\n",
    "test_dataset = EmotionDataset(test_padded, test_labels)\n",
    "test_loader = DataLoader(test_dataset, batch_size=batch_size, shuffle=True)\n",
    "\n",
    "predict(label, model, device, test_loader, label_map, reverse_vocab)"
   ]
  },
  {
   "cell_type": "markdown",
   "metadata": {},
   "source": [
    "# Task 5: Pre-trained model (transfer learning)"
   ]
  },
  {
   "cell_type": "code",
   "execution_count": null,
   "metadata": {},
   "outputs": [
    {
     "name": "stderr",
     "output_type": "stream",
     "text": [
      "c:\\Users\\henri\\miniconda3\\envs\\deep\\Lib\\site-packages\\huggingface_hub\\file_download.py:139: UserWarning: `huggingface_hub` cache-system uses symlinks by default to efficiently store duplicated files but your machine does not support them in C:\\Users\\henri\\.cache\\huggingface\\hub\\models--roberta-base. Caching files will still work but in a degraded version that might require more space on your disk. This warning can be disabled by setting the `HF_HUB_DISABLE_SYMLINKS_WARNING` environment variable. For more details, see https://huggingface.co/docs/huggingface_hub/how-to-cache#limitations.\n",
      "To support symlinks on Windows, you either need to activate Developer Mode or to run Python as an administrator. In order to activate developer mode, see this article: https://docs.microsoft.com/en-us/windows/apps/get-started/enable-your-device-for-development\n",
      "  warnings.warn(message)\n"
     ]
    },
    {
     "ename": "ArrowInvalid",
     "evalue": "Column 2 named label expected length 16000 but got length 14331",
     "output_type": "error",
     "traceback": [
      "\u001b[1;31m---------------------------------------------------------------------------\u001b[0m",
      "\u001b[1;31mArrowInvalid\u001b[0m                              Traceback (most recent call last)",
      "Cell \u001b[1;32mIn[64], line 41\u001b[0m\n\u001b[0;32m     38\u001b[0m val_encodings \u001b[38;5;241m=\u001b[39m preprocess_function(val_df[\u001b[38;5;124m\"\u001b[39m\u001b[38;5;124mtext\u001b[39m\u001b[38;5;124m\"\u001b[39m]\u001b[38;5;241m.\u001b[39mtolist(), val_labels, tokenizer_pretrained, max_length)\n\u001b[0;32m     40\u001b[0m \u001b[38;5;66;03m# Convert to Hugging Face Dataset\u001b[39;00m\n\u001b[1;32m---> 41\u001b[0m train_data \u001b[38;5;241m=\u001b[39m \u001b[43mDataset\u001b[49m\u001b[38;5;241;43m.\u001b[39;49m\u001b[43mfrom_dict\u001b[49m\u001b[43m(\u001b[49m\u001b[43mtrain_encodings\u001b[49m\u001b[43m)\u001b[49m\n\u001b[0;32m     42\u001b[0m val_data \u001b[38;5;241m=\u001b[39m Dataset\u001b[38;5;241m.\u001b[39mfrom_dict(val_encodings)\n\u001b[0;32m     44\u001b[0m \u001b[38;5;66;03m# Set format for PyTorch\u001b[39;00m\n",
      "File \u001b[1;32mc:\\Users\\henri\\miniconda3\\envs\\deep\\Lib\\site-packages\\datasets\\arrow_dataset.py:931\u001b[0m, in \u001b[0;36mDataset.from_dict\u001b[1;34m(cls, mapping, features, info, split)\u001b[0m\n\u001b[0;32m    929\u001b[0m     arrow_typed_mapping[col] \u001b[38;5;241m=\u001b[39m data\n\u001b[0;32m    930\u001b[0m mapping \u001b[38;5;241m=\u001b[39m arrow_typed_mapping\n\u001b[1;32m--> 931\u001b[0m pa_table \u001b[38;5;241m=\u001b[39m \u001b[43mInMemoryTable\u001b[49m\u001b[38;5;241;43m.\u001b[39;49m\u001b[43mfrom_pydict\u001b[49m\u001b[43m(\u001b[49m\u001b[43mmapping\u001b[49m\u001b[38;5;241;43m=\u001b[39;49m\u001b[43mmapping\u001b[49m\u001b[43m)\u001b[49m\n\u001b[0;32m    932\u001b[0m \u001b[38;5;28;01mif\u001b[39;00m info \u001b[38;5;129;01mis\u001b[39;00m \u001b[38;5;28;01mNone\u001b[39;00m:\n\u001b[0;32m    933\u001b[0m     info \u001b[38;5;241m=\u001b[39m DatasetInfo()\n",
      "File \u001b[1;32mc:\\Users\\henri\\miniconda3\\envs\\deep\\Lib\\site-packages\\datasets\\table.py:757\u001b[0m, in \u001b[0;36mInMemoryTable.from_pydict\u001b[1;34m(cls, *args, **kwargs)\u001b[0m\n\u001b[0;32m    741\u001b[0m \u001b[38;5;129m@classmethod\u001b[39m\n\u001b[0;32m    742\u001b[0m \u001b[38;5;28;01mdef\u001b[39;00m \u001b[38;5;21mfrom_pydict\u001b[39m(\u001b[38;5;28mcls\u001b[39m, \u001b[38;5;241m*\u001b[39margs, \u001b[38;5;241m*\u001b[39m\u001b[38;5;241m*\u001b[39mkwargs):\n\u001b[0;32m    743\u001b[0m \u001b[38;5;250m    \u001b[39m\u001b[38;5;124;03m\"\"\"\u001b[39;00m\n\u001b[0;32m    744\u001b[0m \u001b[38;5;124;03m    Construct a Table from Arrow arrays or columns.\u001b[39;00m\n\u001b[0;32m    745\u001b[0m \n\u001b[1;32m   (...)\u001b[0m\n\u001b[0;32m    755\u001b[0m \u001b[38;5;124;03m        `datasets.table.Table`\u001b[39;00m\n\u001b[0;32m    756\u001b[0m \u001b[38;5;124;03m    \"\"\"\u001b[39;00m\n\u001b[1;32m--> 757\u001b[0m     \u001b[38;5;28;01mreturn\u001b[39;00m \u001b[38;5;28mcls\u001b[39m(\u001b[43mpa\u001b[49m\u001b[38;5;241;43m.\u001b[39;49m\u001b[43mTable\u001b[49m\u001b[38;5;241;43m.\u001b[39;49m\u001b[43mfrom_pydict\u001b[49m\u001b[43m(\u001b[49m\u001b[38;5;241;43m*\u001b[39;49m\u001b[43margs\u001b[49m\u001b[43m,\u001b[49m\u001b[43m \u001b[49m\u001b[38;5;241;43m*\u001b[39;49m\u001b[38;5;241;43m*\u001b[39;49m\u001b[43mkwargs\u001b[49m\u001b[43m)\u001b[49m)\n",
      "File \u001b[1;32mc:\\Users\\henri\\miniconda3\\envs\\deep\\Lib\\site-packages\\pyarrow\\table.pxi:1968\u001b[0m, in \u001b[0;36mpyarrow.lib._Tabular.from_pydict\u001b[1;34m()\u001b[0m\n",
      "File \u001b[1;32mc:\\Users\\henri\\miniconda3\\envs\\deep\\Lib\\site-packages\\pyarrow\\table.pxi:6287\u001b[0m, in \u001b[0;36mpyarrow.lib._from_pydict\u001b[1;34m()\u001b[0m\n",
      "File \u001b[1;32mc:\\Users\\henri\\miniconda3\\envs\\deep\\Lib\\site-packages\\pyarrow\\table.pxi:4868\u001b[0m, in \u001b[0;36mpyarrow.lib.Table.from_arrays\u001b[1;34m()\u001b[0m\n",
      "File \u001b[1;32mc:\\Users\\henri\\miniconda3\\envs\\deep\\Lib\\site-packages\\pyarrow\\table.pxi:4214\u001b[0m, in \u001b[0;36mpyarrow.lib.Table.validate\u001b[1;34m()\u001b[0m\n",
      "File \u001b[1;32mc:\\Users\\henri\\miniconda3\\envs\\deep\\Lib\\site-packages\\pyarrow\\error.pxi:92\u001b[0m, in \u001b[0;36mpyarrow.lib.check_status\u001b[1;34m()\u001b[0m\n",
      "\u001b[1;31mArrowInvalid\u001b[0m: Column 2 named label expected length 16000 but got length 14331"
     ]
    }
   ],
   "source": [
    "model_name = \"roberta-base\"\n",
    "num_epochs = 10\n",
    "learning_rate = 3e-5\n",
    "\n",
    "def pretrained_evaluation(predictions):\n",
    "    preds = predictions.predictions.argmax(-1) # get predicted labels\n",
    "    labels = predictions.label_ids\n",
    "    accuracy = accuracy_score(labels, preds)\n",
    "    f1 = f1_score(labels, preds, average='weighted')\n",
    "    precision = precision_score(labels, preds, average='weighted')\n",
    "    recall = recall_score(labels, preds, average='weighted')\n",
    "    return {\n",
    "        \"accuracy\": accuracy,\n",
    "        \"f1\": f1,\n",
    "        \"precision\": precision,\n",
    "        \"recall\": recall,\n",
    "    }\n",
    "\n",
    "def preprocess_function(texts, labels, tokenizer, max_length):\n",
    "    encodings = tokenizer(\n",
    "        texts,\n",
    "        padding=\"max_length\",\n",
    "        truncation=True,\n",
    "        max_length=max_length,\n",
    "        return_tensors=\"pt\"\n",
    "    )\n",
    "    return {\n",
    "        \"input_ids\": encodings[\"input_ids\"],\n",
    "        \"attention_mask\": encodings[\"attention_mask\"],\n",
    "        \"label\": labels\n",
    "    }\n",
    "\n",
    "# Load pre-trained tokenizer\n",
    "tokenizer_pretrained = AutoTokenizer.from_pretrained(model_name)\n",
    "\n",
    "# Preprocess train and validation datasets\n",
    "train_encodings = preprocess_function(train_df[\"text\"].tolist(), train_labels, tokenizer_pretrained, max_length)\n",
    "val_encodings = preprocess_function(val_df[\"text\"].tolist(), val_labels, tokenizer_pretrained, max_length)\n",
    "\n",
    "# Convert to Hugging Face Dataset\n",
    "train_data = Dataset.from_dict(train_encodings)\n",
    "val_data = Dataset.from_dict(val_encodings)\n",
    "\n",
    "# Set format for PyTorch\n",
    "train_data.set_format(type=\"torch\", columns=[\"input_ids\", \"attention_mask\", \"label\"])\n",
    "val_data.set_format(type=\"torch\", columns=[\"input_ids\", \"attention_mask\", \"label\"])\n",
    "\n",
    "# Load pre-trained model\n",
    "model = AutoModelForSequenceClassification.from_pretrained(model_name, num_labels=num_classes)\n",
    "\n",
    "# Training arguments\n",
    "training_args = TrainingArguments(\n",
    "    output_dir=\"results\",\n",
    "    evaluation_strategy=\"epoch\", # evaluate at end of each epoch\n",
    "    save_strategy=\"epoch\", # save checkpoints after every epoch\n",
    "    learning_rate=learning_rate,\n",
    "    per_device_train_batch_size=batch_size,\n",
    "    per_device_eval_batch_size=batch_size,\n",
    "    num_train_epochs=num_epochs,\n",
    "    weight_decay=0.01,\n",
    "    load_best_model_at_end=True, # load best model at end of training\n",
    "    metric_for_best_model=\"accuracy\",  # specify metric to monitor\n",
    "    save_total_limit=1, # keep only best checkpoint\n",
    ")\n",
    "\n",
    "# Define Trainer\n",
    "trainer = Trainer(\n",
    "    model=model,\n",
    "    args=training_args,\n",
    "    train_dataset=train_data,\n",
    "    eval_dataset=val_data,\n",
    "    compute_metrics=pretrained_evaluation, # compute metrics during evaluation\n",
    ")\n",
    "\n",
    "# Train model\n",
    "trainer.train()\n",
    "\n",
    "# Evaluate best model\n",
    "best_results = trainer.evaluate()\n",
    "print(f\"Best Model Evaluation Results:\\n {best_results}\")\n",
    "\n",
    "# Save best fine-tuned model\n",
    "trainer.save_model(f\"models/{model_name}\")\n",
    "tokenizer_pretrained.save_pretrained(f\"models/{model_name}\")"
   ]
  },
  {
   "cell_type": "code",
   "execution_count": null,
   "metadata": {},
   "outputs": [
    {
     "name": "stderr",
     "output_type": "stream",
     "text": [
      "100%|██████████| 250/250 [00:02<00:00, 88.11it/s]"
     ]
    },
    {
     "name": "stdout",
     "output_type": "stream",
     "text": [
      "accuracy: 0.8605\n",
      "f1: 0.8612\n",
      "precision: 0.8639\n",
      "recall: 0.8605\n",
      "classification report:\n",
      "              precision    recall  f1-score   support\n",
      "\n",
      "     sadness       0.88      0.91      0.90       581\n",
      "       anger       0.89      0.87      0.88       695\n",
      "        love       0.72      0.77      0.75       159\n",
      "    surprise       0.91      0.83      0.87       275\n",
      "        fear       0.84      0.79      0.82       224\n",
      "         joy       0.65      0.85      0.74        66\n",
      "\n",
      "    accuracy                           0.86      2000\n",
      "   macro avg       0.82      0.84      0.82      2000\n",
      "weighted avg       0.86      0.86      0.86      2000\n",
      "\n",
      "confusion matrix:\n",
      "[531, 22, 2, 10, 16, 0]\n",
      "[26, 605, 43, 7, 7, 7]\n",
      "[10, 21, 123, 3, 1, 1]\n",
      "[19, 18, 1, 229, 8, 0]\n",
      "[13, 7, 1, 4, 177, 22]\n",
      "[4, 4, 1, 0, 1, 56]\n",
      "\n"
     ]
    },
    {
     "name": "stderr",
     "output_type": "stream",
     "text": [
      "\n"
     ]
    }
   ],
   "source": [
    "# Load trained tokenizer and model\n",
    "tokenizer_new = AutoTokenizer.from_pretrained(f\"models/{model_name}\")\n",
    "model_new = AutoModelForSequenceClassification.from_pretrained(f\"models/{model_name}\", num_labels=num_classes)\n",
    "\n",
    "# Preprocess test data\n",
    "test_encodings = preprocess_function(test_df[\"text\"].tolist(), test_df[\"label\"].tolist(), tokenizer_new, max_length)\n",
    "\n",
    "# Convert to Hugging Face Dataset\n",
    "test_dataset = Dataset.from_dict(test_encodings)\n",
    "test_dataset.set_format(type=\"torch\", columns=[\"input_ids\", \"attention_mask\", \"label\"])\n",
    "\n",
    "# Define Trainer (ensure it uses the pre-trained model)\n",
    "trainer = Trainer(model=model_new)\n",
    "\n",
    "# Make predictions using the Trainer\n",
    "predictions = trainer.predict(test_dataset)\n",
    "\n",
    "# Extract logits and compute predicted labels\n",
    "logits = torch.tensor(predictions.predictions) # convert logits to a PyTorch tensor\n",
    "predicted_labels = torch.argmax(logits, dim=1).numpy() # convert to numpy array for sklearn metrics\n",
    "\n",
    "# Evaluate predictions\n",
    "# label mapping from integer to text labels\n",
    "metrics = compute_metrics(test_df[\"label\"], predicted_labels, label_map.values())\n",
    "print_metrics(metrics)\n",
    "save_metrics(model_name, metrics)"
   ]
  }
 ],
 "metadata": {
  "kernelspec": {
   "display_name": "venv",
   "language": "python",
   "name": "venv"
  },
  "language_info": {
   "codemirror_mode": {
    "name": "ipython",
    "version": 3
   },
   "file_extension": ".py",
   "mimetype": "text/x-python",
   "name": "python",
   "nbconvert_exporter": "python",
   "pygments_lexer": "ipython3",
   "version": "3.10.11"
  }
 },
 "nbformat": 4,
 "nbformat_minor": 2
}
