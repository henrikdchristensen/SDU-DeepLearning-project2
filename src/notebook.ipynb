{
 "cells": [
  {
   "cell_type": "markdown",
   "metadata": {},
   "source": [
    "## Libraries"
   ]
  },
  {
   "cell_type": "code",
   "execution_count": 1,
   "metadata": {},
   "outputs": [
    {
     "name": "stderr",
     "output_type": "stream",
     "text": [
      "[nltk_data] Downloading package wordnet to\n",
      "[nltk_data]     C:\\Users\\henri\\AppData\\Roaming\\nltk_data...\n",
      "[nltk_data]   Package wordnet is already up-to-date!\n",
      "[nltk_data] Downloading package omw-1.4 to\n",
      "[nltk_data]     C:\\Users\\henri\\AppData\\Roaming\\nltk_data...\n",
      "[nltk_data]   Package omw-1.4 is already up-to-date!\n",
      "[nltk_data] Downloading package stopwords to\n",
      "[nltk_data]     C:\\Users\\henri\\AppData\\Roaming\\nltk_data...\n",
      "[nltk_data]   Package stopwords is already up-to-date!\n",
      "c:\\Users\\henri\\miniconda3\\envs\\deep\\Lib\\site-packages\\tqdm\\auto.py:21: TqdmWarning: IProgress not found. Please update jupyter and ipywidgets. See https://ipywidgets.readthedocs.io/en/stable/user_install.html\n",
      "  from .autonotebook import tqdm as notebook_tqdm\n"
     ]
    }
   ],
   "source": [
    "from collections import Counter\n",
    "from collections import defaultdict\n",
    "import itertools\n",
    "import json\n",
    "import matplotlib.pyplot as plt\n",
    "import pandas as pd\n",
    "import numpy as np\n",
    "import nltk\n",
    "from nltk.tokenize import RegexpTokenizer\n",
    "from nltk.corpus import stopwords\n",
    "from nltk.stem import PorterStemmer\n",
    "nltk.download('wordnet')  # downloads WordNet data\n",
    "nltk.download('omw-1.4')  # downloads additional wordnet data for lemmatization\n",
    "nltk.download('stopwords')  # downloads stopwords (if not already downloaded)\n",
    "from sklearn.metrics import (\n",
    "    accuracy_score,\n",
    "    f1_score,\n",
    ")\n",
    "from wordcloud import WordCloud\n",
    "import torch\n",
    "import torch.nn as nn\n",
    "from torch.utils.data import DataLoader\n",
    "from datasets import Dataset\n",
    "from transformers import (\n",
    "    AutoTokenizer,\n",
    "    AutoModelForSequenceClassification,\n",
    "    Trainer,\n",
    "    TrainingArguments,\n",
    ")\n",
    "\n",
    "from emotion_dataset import EmotionDataset\n",
    "from loader import loader\n",
    "from train_model import train_model\n",
    "from plot_scores import plot_scores\n",
    "from predict import predict\n",
    "from predict_on_fly import predict_on_fly\n",
    "from metrics import compute_metrics, print_metrics, save_metrics"
   ]
  },
  {
   "cell_type": "markdown",
   "metadata": {},
   "source": [
    "## Device"
   ]
  },
  {
   "cell_type": "code",
   "execution_count": 2,
   "metadata": {},
   "outputs": [
    {
     "name": "stdout",
     "output_type": "stream",
     "text": [
      "Using cuda\n"
     ]
    }
   ],
   "source": [
    "device = torch.device(\"cuda\" if torch.cuda.is_available() else \"cpu\")\n",
    "print(f\"Using {device}\")"
   ]
  },
  {
   "cell_type": "markdown",
   "metadata": {},
   "source": [
    "## Load and save dataset"
   ]
  },
  {
   "cell_type": "code",
   "execution_count": 3,
   "metadata": {},
   "outputs": [],
   "source": [
    "train_csv_path = \"data/train.csv\"\n",
    "val_csv_path = \"data/val.csv\"\n",
    "test_csv_path = \"data/test.csv\"\n",
    "\n",
    "train_df, val_df, test_df = loader(train_csv_path, val_csv_path, test_csv_path)"
   ]
  },
  {
   "cell_type": "markdown",
   "metadata": {},
   "source": [
    "# Task 1: Data Preparation"
   ]
  },
  {
   "cell_type": "markdown",
   "metadata": {},
   "source": [
    "## Data set"
   ]
  },
  {
   "cell_type": "code",
   "execution_count": 4,
   "metadata": {},
   "outputs": [
    {
     "name": "stdout",
     "output_type": "stream",
     "text": [
      "# train sentences: 16000\n",
      "# validation sentences: 2000\n",
      "# test sentences: 2000\n",
      "                                                    text  label label_name\n",
      "0                                i didnt feel humiliated      0    sadness\n",
      "1      i can go from feeling so hopeless to so damned...      0    sadness\n",
      "2       im grabbing a minute to post i feel greedy wrong      3      anger\n",
      "3      i am ever feeling nostalgic about the fireplac...      2       love\n",
      "4                                   i am feeling grouchy      3      anger\n",
      "...                                                  ...    ...        ...\n",
      "15995  i just had a very brief time in the beanbag an...      0    sadness\n",
      "15996  i am now turning and i feel pathetic that i am...      0    sadness\n",
      "15997                     i feel strong and good overall      1        joy\n",
      "15998  i feel like this was such a rude comment and i...      3      anger\n",
      "15999  i know a lot but i feel so stupid because i ca...      0    sadness\n",
      "\n",
      "[16000 rows x 3 columns]\n"
     ]
    }
   ],
   "source": [
    "print(f\"# train sentences: {len(train_df)}\")\n",
    "print(f\"# validation sentences: {len(val_df)}\")\n",
    "print(f\"# test sentences: {len(test_df)}\")\n",
    "\n",
    "print(train_df)"
   ]
  },
  {
   "cell_type": "markdown",
   "metadata": {},
   "source": [
    "## Step 1: Dataset Preparation"
   ]
  },
  {
   "cell_type": "markdown",
   "metadata": {},
   "source": [
    "### Label distribution"
   ]
  },
  {
   "cell_type": "code",
   "execution_count": 5,
   "metadata": {},
   "outputs": [
    {
     "name": "stdout",
     "output_type": "stream",
     "text": [
      "Number of classes: 6\n",
      "Training Label Mapping and Distribution:\n",
      " label label_name  count  percentage\n",
      "     0    sadness   4666       29.16\n",
      "     1        joy   5362       33.51\n",
      "     2       love   1304        8.15\n",
      "     3      anger   2159       13.49\n",
      "     4       fear   1937       12.11\n",
      "     5   surprise    572        3.58\n"
     ]
    },
    {
     "data": {
      "image/png": "[encoded data removed]",
      "text/plain": [
       "<Figure size 600x300 with 2 Axes>"
      ]
     },
     "metadata": {},
     "output_type": "display_data"
    }
   ],
   "source": [
    "# Calculate label distributions and percentages for training and validation sets\n",
    "def calculate_distribution(df):\n",
    "    label_distribution = df[\"label_name\"].value_counts().reset_index()\n",
    "    label_distribution.columns = [\"label_name\", \"count\"]\n",
    "    label_distribution[\"percentage\"] = round((label_distribution[\"count\"] / label_distribution[\"count\"].sum()) * 100, 2)\n",
    "    return label_distribution\n",
    "\n",
    "# Calculate distributions\n",
    "train_distribution = calculate_distribution(train_df)\n",
    "val_distribution = calculate_distribution(val_df)\n",
    "\n",
    "# Merge with label mapping for alignment\n",
    "label_map_df = train_df[[\"label\", \"label_name\"]].drop_duplicates().sort_values(\"label\")\n",
    "label_map = dict(zip(label_map_df[\"label\"], label_map_df[\"label_name\"]))\n",
    "train_labels_df = label_map_df.merge(train_distribution, on=\"label_name\", how=\"left\")\n",
    "val_labels_df = label_map_df.merge(val_distribution, on=\"label_name\", how=\"left\")\n",
    "\n",
    "# Print training label mapping and distribution\n",
    "num_classes = len(label_map_df)\n",
    "print(f\"Number of classes: {num_classes}\")\n",
    "print(\"Training Label Mapping and Distribution:\")\n",
    "print(train_labels_df.to_string(index=False))\n",
    "\n",
    "# Plot side-by-side\n",
    "fig, axes = plt.subplots(1, 2, figsize=(6, 3), sharey=True)\n",
    "\n",
    "# Training set\n",
    "axes[0].bar(train_labels_df[\"label_name\"], train_labels_df[\"percentage\"], color=\"skyblue\", edgecolor=\"black\")\n",
    "axes[0].set_title(\"Training Label Distribution\")\n",
    "axes[0].set_xlabel(\"Labels\")\n",
    "axes[0].set_ylabel(\"Percentage (%)\")\n",
    "axes[0].tick_params(axis='x', rotation=45)\n",
    "\n",
    "# Validation set\n",
    "axes[1].bar(val_labels_df[\"label_name\"], val_labels_df[\"percentage\"], color=\"lightcoral\", edgecolor=\"black\")\n",
    "axes[1].set_title(\"Validation Label Distribution\")\n",
    "axes[1].set_xlabel(\"Labels\")\n",
    "axes[1].tick_params(axis='x', rotation=45)\n",
    "\n",
    "plt.tight_layout()\n",
    "plt.show()"
   ]
  },
  {
   "cell_type": "markdown",
   "metadata": {},
   "source": [
    "## Step 2: Tokenizing"
   ]
  },
  {
   "cell_type": "markdown",
   "metadata": {},
   "source": [
    "### Tokenizer"
   ]
  },
  {
   "cell_type": "code",
   "execution_count": 6,
   "metadata": {},
   "outputs": [
    {
     "name": "stdout",
     "output_type": "stream",
     "text": [
      "['This', '?', 'is', 'a', 'cu', 'stom', 'tokenization', 'example', '!']\n"
     ]
    }
   ],
   "source": [
    "tokenizer = RegexpTokenizer(r\"[a-zA-Z]+|[!?'´`]+\") # sequence that don’t match the pattern act as separators.\n",
    "example_sentence = \"This?.is,a:cu123stom;tokenization example!<\"\n",
    "example_tokens = tokenizer.tokenize(example_sentence)\n",
    "print(example_tokens)"
   ]
  },
  {
   "cell_type": "markdown",
   "metadata": {},
   "source": [
    "### Tokenize each split"
   ]
  },
  {
   "cell_type": "code",
   "execution_count": 7,
   "metadata": {},
   "outputs": [
    {
     "name": "stdout",
     "output_type": "stream",
     "text": [
      "# words in train vocab: 15212\n"
     ]
    }
   ],
   "source": [
    "train_df[\"tokens\"] = train_df[\"text\"].str.lower().apply(tokenizer.tokenize)\n",
    "val_df[\"tokens\"] = val_df[\"text\"].str.lower().apply(tokenizer.tokenize)\n",
    "test_df[\"tokens\"] = test_df[\"text\"].str.lower().apply(tokenizer.tokenize)\n",
    "\n",
    "train_vocab = set(token for tokens in train_df[\"tokens\"] for token in tokens)\n",
    "\n",
    "print(f\"# words in train vocab: {len(train_vocab)}\")"
   ]
  },
  {
   "cell_type": "markdown",
   "metadata": {},
   "source": [
    "### Word frequency"
   ]
  },
  {
   "cell_type": "code",
   "execution_count": 8,
   "metadata": {},
   "outputs": [
    {
     "name": "stdout",
     "output_type": "stream",
     "text": [
      "Label_name    Word  Count\n",
      "   sadness       i   7635\n",
      "   sadness    feel   3299\n",
      "   sadness     and   2692\n",
      "   sadness      to   2335\n",
      "   sadness     the   2155\n",
      "   sadness       a   1656\n",
      "   sadness feeling   1523\n",
      "   sadness      of   1422\n",
      "   sadness    that   1299\n",
      "   sadness      my   1245\n",
      "     anger       i   3576\n",
      "     anger    feel   1459\n",
      "     anger     and   1258\n",
      "     anger      to   1162\n",
      "     anger     the   1109\n",
      "     anger       a    791\n",
      "     anger feeling    721\n",
      "     anger    that    705\n",
      "     anger      of    630\n",
      "     anger      my    573\n",
      "      love       i   2120\n",
      "      love    feel    929\n",
      "      love     and    902\n",
      "      love      to    860\n",
      "      love     the    780\n",
      "      love       a    571\n",
      "      love      of    482\n",
      "      love    that    460\n",
      "      love      my    399\n",
      "      love feeling    378\n",
      "  surprise       i    927\n",
      "  surprise    feel    356\n",
      "  surprise     and    354\n",
      "  surprise     the    335\n",
      "  surprise      to    267\n",
      "  surprise       a    256\n",
      "  surprise    that    212\n",
      "  surprise feeling    209\n",
      "  surprise      of    191\n",
      "  surprise      my    163\n",
      "      fear       i   3083\n",
      "      fear    feel   1212\n",
      "      fear      to   1116\n",
      "      fear     and   1110\n",
      "      fear     the   1000\n",
      "      fear       a    806\n",
      "      fear feeling    742\n",
      "      fear      of    614\n",
      "      fear    that    531\n",
      "      fear      my    525\n",
      "       joy       i   8518\n",
      "       joy    feel   3928\n",
      "       joy     and   3273\n",
      "       joy      to   3232\n",
      "       joy     the   2991\n",
      "       joy       a   2120\n",
      "       joy    that   1905\n",
      "       joy      of   1651\n",
      "       joy feeling   1539\n",
      "       joy      my   1378\n"
     ]
    }
   ],
   "source": [
    "def get_top_words_per_class(tokens_in, top_n=10):\n",
    "    tokens_by_class = defaultdict(list)\n",
    "    for tokens, label in zip(tokens_in, train_df[\"label_name\"]):\n",
    "        tokens_by_class[label].append(tokens)\n",
    "    tokens_by_class = dict(tokens_by_class)\n",
    "    results = []\n",
    "    for label_name, tokens in tokens_by_class.items():\n",
    "        flat_tokens = list(itertools.chain.from_iterable(tokens))\n",
    "        most_common = Counter(flat_tokens).most_common(top_n)\n",
    "        for word, count in most_common:\n",
    "            results.append({\"Label_name\": label_name, \"Word\": word, \"Count\": count})\n",
    "    return pd.DataFrame(results)\n",
    "\n",
    "print(get_top_words_per_class(train_df[\"tokens\"], top_n=10).to_string(index=False))"
   ]
  },
  {
   "cell_type": "markdown",
   "metadata": {},
   "source": [
    "### Data cleaning (remove stopwords and stem)"
   ]
  },
  {
   "cell_type": "code",
   "execution_count": 9,
   "metadata": {},
   "outputs": [
    {
     "name": "stdout",
     "output_type": "stream",
     "text": [
      "Label_name      Word  Count\n",
      "   sadness      feel   4994\n",
      "   sadness      like    881\n",
      "   sadness        im    683\n",
      "   sadness      know    297\n",
      "   sadness       get    284\n",
      "   sadness    realli    276\n",
      "   sadness      time    271\n",
      "   sadness      make    245\n",
      "   sadness      want    244\n",
      "   sadness        go    235\n",
      "     anger      feel   2261\n",
      "     anger      like    391\n",
      "     anger        im    342\n",
      "     anger       get    175\n",
      "     anger      time    140\n",
      "     anger      want    133\n",
      "     anger     irrit    128\n",
      "     anger    realli    124\n",
      "     anger      know    122\n",
      "     anger      hate    113\n",
      "      love      feel   1406\n",
      "      love      like    366\n",
      "      love      love    277\n",
      "      love        im    193\n",
      "      love   support    103\n",
      "      love    realli     92\n",
      "      love      know     89\n",
      "      love      want     89\n",
      "      love      time     82\n",
      "      love      care     82\n",
      "  surprise      feel    601\n",
      "  surprise      amaz    107\n",
      "  surprise      like     92\n",
      "  surprise        im     91\n",
      "  surprise   impress     63\n",
      "  surprise overwhelm     58\n",
      "  surprise     weird     57\n",
      "  surprise   surpris     56\n",
      "  surprise    curiou     54\n",
      "  surprise     funni     49\n",
      "      fear      feel   2025\n",
      "      fear        im    322\n",
      "      fear      like    264\n",
      "      fear     littl    149\n",
      "      fear        go    139\n",
      "      fear      know    136\n",
      "      fear       bit    118\n",
      "      fear      want    113\n",
      "      fear      time    110\n",
      "      fear       get    107\n",
      "       joy      feel   5674\n",
      "       joy      like   1023\n",
      "       joy        im    799\n",
      "       joy      make    381\n",
      "       joy      time    334\n",
      "       joy       get    322\n",
      "       joy        go    315\n",
      "       joy    realli    309\n",
      "       joy      want    272\n",
      "       joy      know    261\n"
     ]
    }
   ],
   "source": [
    "stemmer = PorterStemmer()\n",
    "stop_words = set(stopwords.words(\"english\"))\n",
    "\n",
    "def preprocess_tokens(tokens):\n",
    "    return [stemmer.stem(word) for word in tokens if word not in stop_words]\n",
    "\n",
    "train_df[\"processed_tokens\"] = train_df[\"tokens\"].apply(preprocess_tokens)\n",
    "val_df[\"processed_tokens\"] = val_df[\"tokens\"].apply(preprocess_tokens)\n",
    "test_df[\"processed_tokens\"] = test_df[\"tokens\"].apply(preprocess_tokens)\n",
    "\n",
    "print(get_top_words_per_class(train_df[\"processed_tokens\"], top_n=10).to_string(index=False))"
   ]
  },
  {
   "cell_type": "markdown",
   "metadata": {},
   "source": [
    "### Frequency of words"
   ]
  },
  {
   "cell_type": "code",
   "execution_count": 10,
   "metadata": {},
   "outputs": [
    {
     "name": "stdout",
     "output_type": "stream",
     "text": [
      "   Word  Count\n",
      "   feel  16961\n",
      "   like   3017\n",
      "     im   2430\n",
      "    get    981\n",
      "   time    979\n",
      " realli    942\n",
      "   know    938\n",
      "   make    935\n",
      "     go    882\n",
      "   want    867\n",
      "   love    805\n",
      "  littl    736\n",
      "  think    736\n",
      "    day    675\n",
      "  thing    672\n",
      "  peopl    664\n",
      "    one    647\n",
      "  would    646\n",
      "   even    600\n",
      "  still    598\n",
      "    ive    587\n",
      "   life    555\n",
      "    way    528\n",
      "   need    521\n",
      "    bit    521\n",
      " someth    514\n",
      "   much    496\n",
      "   dont    482\n",
      "   work    471\n",
      "  could    453\n",
      "    say    450\n",
      "  start    445\n",
      "   look    423\n",
      "    see    419\n",
      "   back    414\n",
      "    tri    410\n",
      "   good    408\n",
      " pretti    392\n",
      "  right    357\n",
      "  alway    356\n",
      "   come    351\n",
      "   help    342\n",
      " friend    340\n",
      "   also    337\n",
      "   year    336\n",
      "  today    332\n",
      "    use    326\n",
      "   take    317\n",
      " around    315\n",
      " person    303\n",
      "   cant    301\n",
      "   made    296\n",
      "   hate    285\n",
      "   well    279\n",
      " though    274\n",
      "  happi    274\n",
      "  didnt    272\n",
      "    got    271\n",
      "  write    270\n",
      "   live    268\n",
      "   felt    266\n",
      "    lot    264\n",
      "  never    264\n",
      "thought    263\n",
      "   hope    261\n",
      " someon    259\n",
      "   find    259\n",
      "  everi    254\n",
      "   quit    250\n",
      "   read    246\n",
      "   less    246\n",
      "   sure    240\n",
      " enough    238\n",
      "   week    236\n",
      "   give    234\n",
      "   mani    232\n",
      "   kind    230\n",
      "   home    227\n",
      "   away    226\n",
      "support    224\n",
      "   long    222\n",
      "   ever    221\n",
      "  anyth    220\n",
      " actual    220\n",
      "   talk    215\n",
      " better    213\n",
      "   keep    212\n",
      "   left    211\n",
      "    let    210\n",
      "everyth    210\n",
      "without    209\n",
      " rememb    209\n",
      "   last    207\n",
      "   care    205\n",
      "   tell    205\n",
      "  world    205\n",
      " wonder    204\n",
      "sometim    201\n",
      "    new    199\n",
      "   http    199\n"
     ]
    }
   ],
   "source": [
    "word_freq = Counter(itertools.chain.from_iterable(train_df[\"processed_tokens\"]))\n",
    "pd.DataFrame(word_freq.items(), columns=[\"Word\", \"Count\"]).sort_values(by=\"Count\", ascending=False).to_csv(\"results/word_frequencies.csv\", index=False)\n",
    "print(pd.DataFrame(word_freq.most_common(100), columns=[\"Word\", \"Count\"]).to_string(index=False))"
   ]
  },
  {
   "cell_type": "markdown",
   "metadata": {},
   "source": [
    "### Remove additional words"
   ]
  },
  {
   "cell_type": "code",
   "execution_count": 11,
   "metadata": {},
   "outputs": [
    {
     "name": "stdout",
     "output_type": "stream",
     "text": [
      "Label_name      Word  Count\n",
      "   sadness      like    881\n",
      "   sadness       get    284\n",
      "   sadness      time    271\n",
      "   sadness      make    245\n",
      "   sadness      want    244\n",
      "   sadness        go    235\n",
      "   sadness       day    224\n",
      "   sadness     thing    221\n",
      "   sadness       ive    217\n",
      "   sadness     think    212\n",
      "     anger      like    391\n",
      "     anger       get    175\n",
      "     anger      time    140\n",
      "     anger      want    133\n",
      "     anger     irrit    128\n",
      "     anger      hate    113\n",
      "     anger     thing    109\n",
      "     anger      make    108\n",
      "     anger        go    108\n",
      "     anger     think    105\n",
      "      love      like    366\n",
      "      love      love    277\n",
      "      love   support    103\n",
      "      love      want     89\n",
      "      love      time     82\n",
      "      love      care     82\n",
      "      love      long     72\n",
      "      love       one     70\n",
      "      love       get     70\n",
      "      love     sweet     69\n",
      "  surprise      amaz    107\n",
      "  surprise      like     92\n",
      "  surprise   impress     63\n",
      "  surprise overwhelm     58\n",
      "  surprise     weird     57\n",
      "  surprise   surpris     56\n",
      "  surprise    curiou     54\n",
      "  surprise     funni     49\n",
      "  surprise    strang     46\n",
      "  surprise     shock     46\n",
      "      fear      like    264\n",
      "      fear     littl    149\n",
      "      fear        go    139\n",
      "      fear       bit    118\n",
      "      fear      want    113\n",
      "      fear      time    110\n",
      "      fear       get    107\n",
      "      fear      make    105\n",
      "      fear     think     94\n",
      "      fear     peopl     90\n",
      "       joy      like   1023\n",
      "       joy      make    381\n",
      "       joy      time    334\n",
      "       joy       get    322\n",
      "       joy        go    315\n",
      "       joy      want    272\n",
      "       joy      love    257\n",
      "       joy       day    241\n",
      "       joy     think    233\n",
      "       joy       one    211\n"
     ]
    }
   ],
   "source": [
    "additional_words_to_remove = [\"feel\", \"realli\", \"im\", \"know\", \"also\", \"http\"]\n",
    "\n",
    "def remove_additional_words(tokens):\n",
    "    return [word for word in tokens if word not in additional_words_to_remove]\n",
    "\n",
    "train_df[\"processed_tokens\"] = train_df[\"processed_tokens\"].apply(remove_additional_words)\n",
    "val_df[\"processed_tokens\"] = val_df[\"processed_tokens\"].apply(remove_additional_words)\n",
    "test_df[\"processed_tokens\"] = test_df[\"processed_tokens\"].apply(remove_additional_words)\n",
    "\n",
    "train_df[\"processed_text\"] = train_df[\"processed_tokens\"].apply(\" \".join)\n",
    "val_df[\"processed_text\"] = val_df[\"processed_tokens\"].apply(\" \".join)\n",
    "test_df[\"processed_text\"] = test_df[\"processed_tokens\"].apply(\" \".join)\n",
    "\n",
    "print(get_top_words_per_class(train_df[\"processed_tokens\"], top_n=10).to_string(index=False))"
   ]
  },
  {
   "cell_type": "markdown",
   "metadata": {},
   "source": [
    "### WordCloud"
   ]
  },
  {
   "cell_type": "code",
   "execution_count": 12,
   "metadata": {},
   "outputs": [
    {
     "data": {
      "image/png": "[encoded data removed]",
      "text/plain": [
       "<Figure size 500x300 with 1 Axes>"
      ]
     },
     "metadata": {},
     "output_type": "display_data"
    }
   ],
   "source": [
    "wordcloud = WordCloud(width=400, height=200, background_color=\"white\").generate(\" \".join(list(itertools.chain.from_iterable(train_df[\"processed_tokens\"]))))\n",
    "plt.figure(figsize=(5, 3))\n",
    "plt.imshow(wordcloud, interpolation=\"bilinear\")\n",
    "plt.axis(\"off\")\n",
    "plt.show()"
   ]
  },
  {
   "cell_type": "markdown",
   "metadata": {},
   "source": [
    "### Sentence length distribution"
   ]
  },
  {
   "cell_type": "code",
   "execution_count": 13,
   "metadata": {},
   "outputs": [
    {
     "name": "stdout",
     "output_type": "stream",
     "text": [
      "Length range for train: from 1 to 34 words\n",
      "Mean length for train: 8 words\n",
      "Standard deviation for train: 5\n"
     ]
    },
    {
     "data": {
      "image/png": "[encoded data removed]",
      "text/plain": [
       "<Figure size 300x120 with 1 Axes>"
      ]
     },
     "metadata": {},
     "output_type": "display_data"
    },
    {
     "data": {
      "image/png": "[encoded data removed]",
      "text/plain": [
       "<Figure size 230x150 with 1 Axes>"
      ]
     },
     "metadata": {},
     "output_type": "display_data"
    }
   ],
   "source": [
    "train_lengths = [len(tokens) for tokens in train_df[\"processed_tokens\"]]\n",
    "mean_length = np.mean(train_lengths)\n",
    "std_dev = np.std(train_lengths)\n",
    "\n",
    "print(f\"Length range for train: from {min(train_lengths)} to {max(train_lengths)} words\")\n",
    "print(f\"Mean length for train: {mean_length:.0f} words\")\n",
    "print(f\"Standard deviation for train: {std_dev:.0f}\")\n",
    "\n",
    "# Plot boxplot\n",
    "plt.figure(figsize=(3, 1.2))\n",
    "plt.boxplot(\n",
    "    train_lengths,\n",
    "    vert=False,\n",
    "    patch_artist=True,\n",
    "    boxprops=dict(facecolor=\"skyblue\", linewidth=2), # larger, colored box\n",
    "    whiskerprops=dict(linewidth=2),  # Thicker whiskers\n",
    "    medianprops=dict(color=\"red\", linewidth=2), # highlight the median\n",
    ")\n",
    "plt.title(\"Training Text Lengths\")\n",
    "plt.xlabel(\"Number of Words\")\n",
    "plt.yticks([])\n",
    "plt.show()\n",
    "\n",
    "# Plot distribution of lengths\n",
    "plt.figure(figsize=(2.3, 1.5))\n",
    "plt.hist(train_lengths, bins=30, color=\"skyblue\", edgecolor=\"black\")\n",
    "plt.title(\"Training Text Lengths\")\n",
    "plt.xlabel(\"Number of Words\")\n",
    "plt.ylabel(\"Count\")\n",
    "plt.show()"
   ]
  },
  {
   "cell_type": "markdown",
   "metadata": {},
   "source": [
    "### Set max and min length"
   ]
  },
  {
   "cell_type": "code",
   "execution_count": 14,
   "metadata": {},
   "outputs": [
    {
     "name": "stdout",
     "output_type": "stream",
     "text": [
      "# train sentences before filtering: 16000\n",
      "# train sentences after filtering: 14331\n"
     ]
    }
   ],
   "source": [
    "# Set max length for the model. If sentence is longer, truncate it. If shorter, pad it.\n",
    "# Set min length to remove very short sentences from the training set.\n",
    "max_length = 10\n",
    "min_length = 3\n",
    "\n",
    "print(f\"# train sentences before filtering: {len(train_df)}\")\n",
    "train_df = train_df[train_df[\"processed_tokens\"].apply(len) >= min_length]\n",
    "print(f\"# train sentences after filtering: {len(train_df)}\")"
   ]
  },
  {
   "cell_type": "markdown",
   "metadata": {},
   "source": [
    "## Step 3: Build a vocabulary"
   ]
  },
  {
   "cell_type": "code",
   "execution_count": 15,
   "metadata": {},
   "outputs": [
    {
     "name": "stdout",
     "output_type": "stream",
     "text": [
      "Vocabulary size: 10336\n"
     ]
    }
   ],
   "source": [
    "vocab = {\"<PAD>\": 0, \"<UNK>\": 1}\n",
    "for tokens in train_df[\"processed_tokens\"]:\n",
    "    for token in tokens:\n",
    "        if token not in vocab:\n",
    "            vocab[token] = len(vocab)\n",
    "\n",
    "vocab_size = len(vocab)\n",
    "print(f\"Vocabulary size: {vocab_size}\")\n",
    "\n",
    "reverse_vocab = {v: k for k, v in vocab.items()}"
   ]
  },
  {
   "cell_type": "markdown",
   "metadata": {},
   "source": [
    "## Step 4: Encode all texts with the vocabulary"
   ]
  },
  {
   "cell_type": "code",
   "execution_count": 16,
   "metadata": {},
   "outputs": [],
   "source": [
    "def encode(tokens): # i.e. words to integers\n",
    "    return [vocab[token] if token in vocab else 1 for token in tokens]\n",
    "\n",
    "train_df[\"encoded\"] = train_df[\"processed_tokens\"].apply(encode)\n",
    "val_df[\"encoded\"] = val_df[\"processed_tokens\"].apply(encode)\n",
    "test_df[\"encoded\"] = test_df[\"processed_tokens\"].apply(encode)"
   ]
  },
  {
   "cell_type": "markdown",
   "metadata": {},
   "source": [
    "## Step 5: Maximum sequence length"
   ]
  },
  {
   "cell_type": "code",
   "execution_count": 17,
   "metadata": {},
   "outputs": [],
   "source": [
    "def pad(sequence):\n",
    "    return sequence[:max_length] + [0] * (max_length - len(sequence))\n",
    "\n",
    "train_df[\"padded\"] = train_df[\"encoded\"].apply(pad)\n",
    "val_df[\"padded\"] = val_df[\"encoded\"].apply(pad)\n",
    "test_df[\"padded\"] = test_df[\"encoded\"].apply(pad)"
   ]
  },
  {
   "cell_type": "markdown",
   "metadata": {},
   "source": [
    "# Task 2: RNN model"
   ]
  },
  {
   "cell_type": "markdown",
   "metadata": {},
   "source": [
    "## Model class"
   ]
  },
  {
   "cell_type": "code",
   "execution_count": 18,
   "metadata": {},
   "outputs": [],
   "source": [
    "class RNN_model(nn.Module):\n",
    "    def __init__(self, type, vocab_size, embedding_dim, hidden_size, num_classes, padding_idx=0, num_layers=1, dropout_rnn=0, dropout_fc=0):\n",
    "        super(RNN_model, self).__init__()\n",
    "        # embedding_dim: size of each embedding vector\n",
    "        # hidden_size: number of features in the hidden state\n",
    "        # num_layers: number of recurrent layers\n",
    "        # bias: introduces a bias\n",
    "        # batch_first: input and output tensors are provided as (batch, seq, feature)\n",
    "        # dropout: if non-zero, introduces a dropout layer on the outputs of each RNN layer except the last layer\n",
    "\n",
    "        self.embedding = nn.Embedding(num_embeddings=vocab_size, embedding_dim=embedding_dim, padding_idx=padding_idx)\n",
    "        if type == \"RNN\":\n",
    "            self.rnn = nn.RNN(input_size=embedding_dim, hidden_size=hidden_size, num_layers=num_layers, bias=True, batch_first=True, dropout=dropout_rnn, nonlinearity=\"tanh\")\n",
    "        elif type == \"GRU\":\n",
    "            self.rnn = nn.GRU(input_size=embedding_dim, hidden_size=hidden_size, num_layers=num_layers, bias=True, batch_first=True, dropout=dropout_rnn)\n",
    "        elif type == \"LSTM\":\n",
    "            self.rnn = nn.LSTM(input_size=embedding_dim, hidden_size=hidden_size, num_layers=num_layers, bias=True, batch_first=True, dropout=dropout_rnn)\n",
    "        self.fc = nn.Linear(in_features=hidden_size, out_features=num_classes)\n",
    "        self.dropout = nn.Dropout(p=dropout_fc)\n",
    "        \n",
    "    def forward(self, x):\n",
    "        x = self.embedding(x)\n",
    "        x, _ = self.rnn(x)\n",
    "        x = x[:, -1, :]  # extract last hidden state for each sequence\n",
    "        x = self.dropout(x) # apply dropout to the last hidden state\n",
    "        x = self.fc(x) # pass last hidden state through the fully connected layer\n",
    "        return x\n"
   ]
  },
  {
   "cell_type": "markdown",
   "metadata": {},
   "source": [
    "## Hyper parameter tuning"
   ]
  },
  {
   "cell_type": "code",
   "execution_count": 19,
   "metadata": {},
   "outputs": [],
   "source": [
    "train_dataset = EmotionDataset(train_df[\"padded\"].tolist(), train_df[\"label\"].tolist())\n",
    "val_dataset = EmotionDataset(val_df[\"padded\"].tolist(), val_df[\"label\"].tolist())\n",
    "test_dataset = EmotionDataset(test_df[\"padded\"].tolist(), test_df[\"label\"].tolist())"
   ]
  },
  {
   "cell_type": "code",
   "execution_count": 20,
   "metadata": {},
   "outputs": [
    {
     "name": "stdout",
     "output_type": "stream",
     "text": [
      "Training model: model_0 (1/768)\n",
      "{\n",
      "    \"type\": \"LSTM\",\n",
      "    \"embedding_dim\": 100,\n",
      "    \"hidden_size\": 512,\n",
      "    \"layers\": 1,\n",
      "    \"dropout_rnn\": 0.0,\n",
      "    \"dropout_fc\": 0.4,\n",
      "    \"learning_rate\": 0.001,\n",
      "    \"reg_lambda\": 0.0001,\n",
      "    \"batch_size\": 16\n",
      "}\n",
      "Epoch 1/10 (4s) | Train: loss 57.786, acc 40.37%, f1 34.86% | Val: loss 1.16, acc 58.00%, f1 54.64%\n",
      "Epoch 2/10 (4s) | Train: loss 16.965, acc 71.37%, f1 70.85% | Val: loss 0.6459, acc 79.75%, f1 79.23%\n"
     ]
    },
    {
     "ename": "KeyboardInterrupt",
     "evalue": "",
     "output_type": "error",
     "traceback": [
      "\u001b[1;31m---------------------------------------------------------------------------\u001b[0m",
      "\u001b[1;31mKeyboardInterrupt\u001b[0m                         Traceback (most recent call last)",
      "Cell \u001b[1;32mIn[20], line 74\u001b[0m\n\u001b[0;32m     70\u001b[0m         json\u001b[38;5;241m.\u001b[39mdump(results_list, f, indent\u001b[38;5;241m=\u001b[39m\u001b[38;5;241m4\u001b[39m)\n\u001b[0;32m     72\u001b[0m     \u001b[38;5;28mprint\u001b[39m(\u001b[38;5;124mf\u001b[39m\u001b[38;5;124m\"\u001b[39m\u001b[38;5;124mBest model found: \u001b[39m\u001b[38;5;132;01m{\u001b[39;00mbest_model_label\u001b[38;5;132;01m}\u001b[39;00m\u001b[38;5;124m\"\u001b[39m)\n\u001b[1;32m---> 74\u001b[0m \u001b[43mgrid_search\u001b[49m\u001b[43m(\u001b[49m\u001b[43mvocab_size\u001b[49m\u001b[43m,\u001b[49m\u001b[43m \u001b[49m\u001b[43mnum_classes\u001b[49m\u001b[43m,\u001b[49m\u001b[43m \u001b[49m\u001b[43mtrain_dataset\u001b[49m\u001b[43m,\u001b[49m\u001b[43m \u001b[49m\u001b[43mval_dataset\u001b[49m\u001b[43m,\u001b[49m\u001b[43m \u001b[49m\u001b[43mlabel_map\u001b[49m\u001b[43m,\u001b[49m\u001b[43m \u001b[49m\u001b[43mdevice\u001b[49m\u001b[43m)\u001b[49m\n",
      "Cell \u001b[1;32mIn[20], line 43\u001b[0m, in \u001b[0;36mgrid_search\u001b[1;34m(vocab_size, num_classes, train_dataset, val_dataset, label_map, device)\u001b[0m\n\u001b[0;32m     31\u001b[0m model \u001b[38;5;241m=\u001b[39m RNN_model(\n\u001b[0;32m     32\u001b[0m     \u001b[38;5;28mtype\u001b[39m\u001b[38;5;241m=\u001b[39mconfig[\u001b[38;5;124m\"\u001b[39m\u001b[38;5;124mtype\u001b[39m\u001b[38;5;124m\"\u001b[39m],\n\u001b[0;32m     33\u001b[0m     vocab_size\u001b[38;5;241m=\u001b[39mvocab_size,\n\u001b[1;32m   (...)\u001b[0m\n\u001b[0;32m     39\u001b[0m     dropout_fc\u001b[38;5;241m=\u001b[39mconfig[\u001b[38;5;124m\"\u001b[39m\u001b[38;5;124mdropout_fc\u001b[39m\u001b[38;5;124m\"\u001b[39m],\n\u001b[0;32m     40\u001b[0m )\n\u001b[0;32m     42\u001b[0m \u001b[38;5;66;03m# Train\u001b[39;00m\n\u001b[1;32m---> 43\u001b[0m results \u001b[38;5;241m=\u001b[39m \u001b[43mtrain_model\u001b[49m\u001b[43m(\u001b[49m\n\u001b[0;32m     44\u001b[0m \u001b[43m    \u001b[49m\u001b[43mlabel\u001b[49m\u001b[38;5;241;43m=\u001b[39;49m\u001b[43mlabel\u001b[49m\u001b[43m,\u001b[49m\n\u001b[0;32m     45\u001b[0m \u001b[43m    \u001b[49m\u001b[43mmodel\u001b[49m\u001b[38;5;241;43m=\u001b[39;49m\u001b[43mmodel\u001b[49m\u001b[43m,\u001b[49m\n\u001b[0;32m     46\u001b[0m \u001b[43m    \u001b[49m\u001b[43mtrain_loader\u001b[49m\u001b[38;5;241;43m=\u001b[39;49m\u001b[43mtrain_loader\u001b[49m\u001b[43m,\u001b[49m\n\u001b[0;32m     47\u001b[0m \u001b[43m    \u001b[49m\u001b[43mval_loader\u001b[49m\u001b[38;5;241;43m=\u001b[39;49m\u001b[43mval_loader\u001b[49m\u001b[43m,\u001b[49m\n\u001b[0;32m     48\u001b[0m \u001b[43m    \u001b[49m\u001b[43mlabel_map\u001b[49m\u001b[38;5;241;43m=\u001b[39;49m\u001b[43mlabel_map\u001b[49m\u001b[43m,\u001b[49m\n\u001b[0;32m     49\u001b[0m \u001b[43m    \u001b[49m\u001b[43mdevice\u001b[49m\u001b[38;5;241;43m=\u001b[39;49m\u001b[43mdevice\u001b[49m\u001b[43m,\u001b[49m\n\u001b[0;32m     50\u001b[0m \u001b[43m    \u001b[49m\u001b[43moptimizer_type\u001b[49m\u001b[38;5;241;43m=\u001b[39;49m\u001b[38;5;124;43m\"\u001b[39;49m\u001b[38;5;124;43mAdamW\u001b[39;49m\u001b[38;5;124;43m\"\u001b[39;49m\u001b[43m,\u001b[49m\n\u001b[0;32m     51\u001b[0m \u001b[43m    \u001b[49m\u001b[43mlearning_rate\u001b[49m\u001b[38;5;241;43m=\u001b[39;49m\u001b[43mconfig\u001b[49m\u001b[43m[\u001b[49m\u001b[38;5;124;43m\"\u001b[39;49m\u001b[38;5;124;43mlearning_rate\u001b[39;49m\u001b[38;5;124;43m\"\u001b[39;49m\u001b[43m]\u001b[49m\u001b[43m,\u001b[49m\n\u001b[0;32m     52\u001b[0m \u001b[43m    \u001b[49m\u001b[43mreg_type\u001b[49m\u001b[38;5;241;43m=\u001b[39;49m\u001b[38;5;124;43m\"\u001b[39;49m\u001b[38;5;124;43mL2\u001b[39;49m\u001b[38;5;124;43m\"\u001b[39;49m\u001b[43m,\u001b[49m\n\u001b[0;32m     53\u001b[0m \u001b[43m    \u001b[49m\u001b[43mreg_lambda\u001b[49m\u001b[38;5;241;43m=\u001b[39;49m\u001b[43mconfig\u001b[49m\u001b[43m[\u001b[49m\u001b[38;5;124;43m\"\u001b[39;49m\u001b[38;5;124;43mreg_lambda\u001b[39;49m\u001b[38;5;124;43m\"\u001b[39;49m\u001b[43m]\u001b[49m\u001b[43m,\u001b[49m\n\u001b[0;32m     54\u001b[0m \u001b[43m    \u001b[49m\u001b[43mnum_epochs\u001b[49m\u001b[38;5;241;43m=\u001b[39;49m\u001b[38;5;241;43m10\u001b[39;49m\n\u001b[0;32m     55\u001b[0m \u001b[43m\u001b[49m\u001b[43m)\u001b[49m\n\u001b[0;32m     57\u001b[0m \u001b[38;5;66;03m# Track the best model\u001b[39;00m\n\u001b[0;32m     58\u001b[0m current_val_f1_score \u001b[38;5;241m=\u001b[39m \u001b[38;5;28mmax\u001b[39m(results[\u001b[38;5;124m\"\u001b[39m\u001b[38;5;124mval_f1_scores\u001b[39m\u001b[38;5;124m\"\u001b[39m])\n",
      "File \u001b[1;32md:\\projects\\Deep Learning\\SDU-DeepLearning-project2\\src\\train_model.py:98\u001b[0m, in \u001b[0;36mtrain_model\u001b[1;34m(label, model, train_loader, val_loader, label_map, device, optimizer_type, learning_rate, momentum, weight_decay, step_size, gamma, reg_type, reg_lambda, num_epochs, grad_clip)\u001b[0m\n\u001b[0;32m     95\u001b[0m inputs, targets \u001b[38;5;241m=\u001b[39m inputs\u001b[38;5;241m.\u001b[39mto(device), targets\u001b[38;5;241m.\u001b[39mto(device)\n\u001b[0;32m     97\u001b[0m optimizer\u001b[38;5;241m.\u001b[39mzero_grad()\n\u001b[1;32m---> 98\u001b[0m outputs \u001b[38;5;241m=\u001b[39m \u001b[43mmodel\u001b[49m\u001b[43m(\u001b[49m\u001b[43minputs\u001b[49m\u001b[43m)\u001b[49m\n\u001b[0;32m     99\u001b[0m loss \u001b[38;5;241m=\u001b[39m criterion(outputs, targets)\n\u001b[0;32m    101\u001b[0m \u001b[38;5;66;03m# Apply regularization\u001b[39;00m\n",
      "File \u001b[1;32mc:\\Users\\henri\\miniconda3\\envs\\deep\\Lib\\site-packages\\torch\\nn\\modules\\module.py:1736\u001b[0m, in \u001b[0;36mModule._wrapped_call_impl\u001b[1;34m(self, *args, **kwargs)\u001b[0m\n\u001b[0;32m   1734\u001b[0m     \u001b[38;5;28;01mreturn\u001b[39;00m \u001b[38;5;28mself\u001b[39m\u001b[38;5;241m.\u001b[39m_compiled_call_impl(\u001b[38;5;241m*\u001b[39margs, \u001b[38;5;241m*\u001b[39m\u001b[38;5;241m*\u001b[39mkwargs)  \u001b[38;5;66;03m# type: ignore[misc]\u001b[39;00m\n\u001b[0;32m   1735\u001b[0m \u001b[38;5;28;01melse\u001b[39;00m:\n\u001b[1;32m-> 1736\u001b[0m     \u001b[38;5;28;01mreturn\u001b[39;00m \u001b[38;5;28;43mself\u001b[39;49m\u001b[38;5;241;43m.\u001b[39;49m\u001b[43m_call_impl\u001b[49m\u001b[43m(\u001b[49m\u001b[38;5;241;43m*\u001b[39;49m\u001b[43margs\u001b[49m\u001b[43m,\u001b[49m\u001b[43m \u001b[49m\u001b[38;5;241;43m*\u001b[39;49m\u001b[38;5;241;43m*\u001b[39;49m\u001b[43mkwargs\u001b[49m\u001b[43m)\u001b[49m\n",
      "File \u001b[1;32mc:\\Users\\henri\\miniconda3\\envs\\deep\\Lib\\site-packages\\torch\\nn\\modules\\module.py:1747\u001b[0m, in \u001b[0;36mModule._call_impl\u001b[1;34m(self, *args, **kwargs)\u001b[0m\n\u001b[0;32m   1742\u001b[0m \u001b[38;5;66;03m# If we don't have any hooks, we want to skip the rest of the logic in\u001b[39;00m\n\u001b[0;32m   1743\u001b[0m \u001b[38;5;66;03m# this function, and just call forward.\u001b[39;00m\n\u001b[0;32m   1744\u001b[0m \u001b[38;5;28;01mif\u001b[39;00m \u001b[38;5;129;01mnot\u001b[39;00m (\u001b[38;5;28mself\u001b[39m\u001b[38;5;241m.\u001b[39m_backward_hooks \u001b[38;5;129;01mor\u001b[39;00m \u001b[38;5;28mself\u001b[39m\u001b[38;5;241m.\u001b[39m_backward_pre_hooks \u001b[38;5;129;01mor\u001b[39;00m \u001b[38;5;28mself\u001b[39m\u001b[38;5;241m.\u001b[39m_forward_hooks \u001b[38;5;129;01mor\u001b[39;00m \u001b[38;5;28mself\u001b[39m\u001b[38;5;241m.\u001b[39m_forward_pre_hooks\n\u001b[0;32m   1745\u001b[0m         \u001b[38;5;129;01mor\u001b[39;00m _global_backward_pre_hooks \u001b[38;5;129;01mor\u001b[39;00m _global_backward_hooks\n\u001b[0;32m   1746\u001b[0m         \u001b[38;5;129;01mor\u001b[39;00m _global_forward_hooks \u001b[38;5;129;01mor\u001b[39;00m _global_forward_pre_hooks):\n\u001b[1;32m-> 1747\u001b[0m     \u001b[38;5;28;01mreturn\u001b[39;00m \u001b[43mforward_call\u001b[49m\u001b[43m(\u001b[49m\u001b[38;5;241;43m*\u001b[39;49m\u001b[43margs\u001b[49m\u001b[43m,\u001b[49m\u001b[43m \u001b[49m\u001b[38;5;241;43m*\u001b[39;49m\u001b[38;5;241;43m*\u001b[39;49m\u001b[43mkwargs\u001b[49m\u001b[43m)\u001b[49m\n\u001b[0;32m   1749\u001b[0m result \u001b[38;5;241m=\u001b[39m \u001b[38;5;28;01mNone\u001b[39;00m\n\u001b[0;32m   1750\u001b[0m called_always_called_hooks \u001b[38;5;241m=\u001b[39m \u001b[38;5;28mset\u001b[39m()\n",
      "Cell \u001b[1;32mIn[18], line 23\u001b[0m, in \u001b[0;36mRNN_model.forward\u001b[1;34m(self, x)\u001b[0m\n\u001b[0;32m     21\u001b[0m \u001b[38;5;28;01mdef\u001b[39;00m \u001b[38;5;21mforward\u001b[39m(\u001b[38;5;28mself\u001b[39m, x):\n\u001b[0;32m     22\u001b[0m     x \u001b[38;5;241m=\u001b[39m \u001b[38;5;28mself\u001b[39m\u001b[38;5;241m.\u001b[39membedding(x)\n\u001b[1;32m---> 23\u001b[0m     x, _ \u001b[38;5;241m=\u001b[39m \u001b[38;5;28;43mself\u001b[39;49m\u001b[38;5;241;43m.\u001b[39;49m\u001b[43mrnn\u001b[49m\u001b[43m(\u001b[49m\u001b[43mx\u001b[49m\u001b[43m)\u001b[49m\n\u001b[0;32m     24\u001b[0m     x \u001b[38;5;241m=\u001b[39m x[:, \u001b[38;5;241m-\u001b[39m\u001b[38;5;241m1\u001b[39m, :]  \u001b[38;5;66;03m# extract last hidden state for each sequence\u001b[39;00m\n\u001b[0;32m     25\u001b[0m     x \u001b[38;5;241m=\u001b[39m \u001b[38;5;28mself\u001b[39m\u001b[38;5;241m.\u001b[39mdropout(x) \u001b[38;5;66;03m# apply dropout to the last hidden state\u001b[39;00m\n",
      "File \u001b[1;32mc:\\Users\\henri\\miniconda3\\envs\\deep\\Lib\\site-packages\\torch\\nn\\modules\\module.py:1736\u001b[0m, in \u001b[0;36mModule._wrapped_call_impl\u001b[1;34m(self, *args, **kwargs)\u001b[0m\n\u001b[0;32m   1734\u001b[0m     \u001b[38;5;28;01mreturn\u001b[39;00m \u001b[38;5;28mself\u001b[39m\u001b[38;5;241m.\u001b[39m_compiled_call_impl(\u001b[38;5;241m*\u001b[39margs, \u001b[38;5;241m*\u001b[39m\u001b[38;5;241m*\u001b[39mkwargs)  \u001b[38;5;66;03m# type: ignore[misc]\u001b[39;00m\n\u001b[0;32m   1735\u001b[0m \u001b[38;5;28;01melse\u001b[39;00m:\n\u001b[1;32m-> 1736\u001b[0m     \u001b[38;5;28;01mreturn\u001b[39;00m \u001b[38;5;28;43mself\u001b[39;49m\u001b[38;5;241;43m.\u001b[39;49m\u001b[43m_call_impl\u001b[49m\u001b[43m(\u001b[49m\u001b[38;5;241;43m*\u001b[39;49m\u001b[43margs\u001b[49m\u001b[43m,\u001b[49m\u001b[43m \u001b[49m\u001b[38;5;241;43m*\u001b[39;49m\u001b[38;5;241;43m*\u001b[39;49m\u001b[43mkwargs\u001b[49m\u001b[43m)\u001b[49m\n",
      "File \u001b[1;32mc:\\Users\\henri\\miniconda3\\envs\\deep\\Lib\\site-packages\\torch\\nn\\modules\\module.py:1747\u001b[0m, in \u001b[0;36mModule._call_impl\u001b[1;34m(self, *args, **kwargs)\u001b[0m\n\u001b[0;32m   1742\u001b[0m \u001b[38;5;66;03m# If we don't have any hooks, we want to skip the rest of the logic in\u001b[39;00m\n\u001b[0;32m   1743\u001b[0m \u001b[38;5;66;03m# this function, and just call forward.\u001b[39;00m\n\u001b[0;32m   1744\u001b[0m \u001b[38;5;28;01mif\u001b[39;00m \u001b[38;5;129;01mnot\u001b[39;00m (\u001b[38;5;28mself\u001b[39m\u001b[38;5;241m.\u001b[39m_backward_hooks \u001b[38;5;129;01mor\u001b[39;00m \u001b[38;5;28mself\u001b[39m\u001b[38;5;241m.\u001b[39m_backward_pre_hooks \u001b[38;5;129;01mor\u001b[39;00m \u001b[38;5;28mself\u001b[39m\u001b[38;5;241m.\u001b[39m_forward_hooks \u001b[38;5;129;01mor\u001b[39;00m \u001b[38;5;28mself\u001b[39m\u001b[38;5;241m.\u001b[39m_forward_pre_hooks\n\u001b[0;32m   1745\u001b[0m         \u001b[38;5;129;01mor\u001b[39;00m _global_backward_pre_hooks \u001b[38;5;129;01mor\u001b[39;00m _global_backward_hooks\n\u001b[0;32m   1746\u001b[0m         \u001b[38;5;129;01mor\u001b[39;00m _global_forward_hooks \u001b[38;5;129;01mor\u001b[39;00m _global_forward_pre_hooks):\n\u001b[1;32m-> 1747\u001b[0m     \u001b[38;5;28;01mreturn\u001b[39;00m \u001b[43mforward_call\u001b[49m\u001b[43m(\u001b[49m\u001b[38;5;241;43m*\u001b[39;49m\u001b[43margs\u001b[49m\u001b[43m,\u001b[49m\u001b[43m \u001b[49m\u001b[38;5;241;43m*\u001b[39;49m\u001b[38;5;241;43m*\u001b[39;49m\u001b[43mkwargs\u001b[49m\u001b[43m)\u001b[49m\n\u001b[0;32m   1749\u001b[0m result \u001b[38;5;241m=\u001b[39m \u001b[38;5;28;01mNone\u001b[39;00m\n\u001b[0;32m   1750\u001b[0m called_always_called_hooks \u001b[38;5;241m=\u001b[39m \u001b[38;5;28mset\u001b[39m()\n",
      "File \u001b[1;32mc:\\Users\\henri\\miniconda3\\envs\\deep\\Lib\\site-packages\\torch\\nn\\modules\\rnn.py:1123\u001b[0m, in \u001b[0;36mLSTM.forward\u001b[1;34m(self, input, hx)\u001b[0m\n\u001b[0;32m   1120\u001b[0m         hx \u001b[38;5;241m=\u001b[39m \u001b[38;5;28mself\u001b[39m\u001b[38;5;241m.\u001b[39mpermute_hidden(hx, sorted_indices)\n\u001b[0;32m   1122\u001b[0m \u001b[38;5;28;01mif\u001b[39;00m batch_sizes \u001b[38;5;129;01mis\u001b[39;00m \u001b[38;5;28;01mNone\u001b[39;00m:\n\u001b[1;32m-> 1123\u001b[0m     result \u001b[38;5;241m=\u001b[39m \u001b[43m_VF\u001b[49m\u001b[38;5;241;43m.\u001b[39;49m\u001b[43mlstm\u001b[49m\u001b[43m(\u001b[49m\n\u001b[0;32m   1124\u001b[0m \u001b[43m        \u001b[49m\u001b[38;5;28;43minput\u001b[39;49m\u001b[43m,\u001b[49m\n\u001b[0;32m   1125\u001b[0m \u001b[43m        \u001b[49m\u001b[43mhx\u001b[49m\u001b[43m,\u001b[49m\n\u001b[0;32m   1126\u001b[0m \u001b[43m        \u001b[49m\u001b[38;5;28;43mself\u001b[39;49m\u001b[38;5;241;43m.\u001b[39;49m\u001b[43m_flat_weights\u001b[49m\u001b[43m,\u001b[49m\n\u001b[0;32m   1127\u001b[0m \u001b[43m        \u001b[49m\u001b[38;5;28;43mself\u001b[39;49m\u001b[38;5;241;43m.\u001b[39;49m\u001b[43mbias\u001b[49m\u001b[43m,\u001b[49m\n\u001b[0;32m   1128\u001b[0m \u001b[43m        \u001b[49m\u001b[38;5;28;43mself\u001b[39;49m\u001b[38;5;241;43m.\u001b[39;49m\u001b[43mnum_layers\u001b[49m\u001b[43m,\u001b[49m\n\u001b[0;32m   1129\u001b[0m \u001b[43m        \u001b[49m\u001b[38;5;28;43mself\u001b[39;49m\u001b[38;5;241;43m.\u001b[39;49m\u001b[43mdropout\u001b[49m\u001b[43m,\u001b[49m\n\u001b[0;32m   1130\u001b[0m \u001b[43m        \u001b[49m\u001b[38;5;28;43mself\u001b[39;49m\u001b[38;5;241;43m.\u001b[39;49m\u001b[43mtraining\u001b[49m\u001b[43m,\u001b[49m\n\u001b[0;32m   1131\u001b[0m \u001b[43m        \u001b[49m\u001b[38;5;28;43mself\u001b[39;49m\u001b[38;5;241;43m.\u001b[39;49m\u001b[43mbidirectional\u001b[49m\u001b[43m,\u001b[49m\n\u001b[0;32m   1132\u001b[0m \u001b[43m        \u001b[49m\u001b[38;5;28;43mself\u001b[39;49m\u001b[38;5;241;43m.\u001b[39;49m\u001b[43mbatch_first\u001b[49m\u001b[43m,\u001b[49m\n\u001b[0;32m   1133\u001b[0m \u001b[43m    \u001b[49m\u001b[43m)\u001b[49m\n\u001b[0;32m   1134\u001b[0m \u001b[38;5;28;01melse\u001b[39;00m:\n\u001b[0;32m   1135\u001b[0m     result \u001b[38;5;241m=\u001b[39m _VF\u001b[38;5;241m.\u001b[39mlstm(\n\u001b[0;32m   1136\u001b[0m         \u001b[38;5;28minput\u001b[39m,\n\u001b[0;32m   1137\u001b[0m         batch_sizes,\n\u001b[1;32m   (...)\u001b[0m\n\u001b[0;32m   1144\u001b[0m         \u001b[38;5;28mself\u001b[39m\u001b[38;5;241m.\u001b[39mbidirectional,\n\u001b[0;32m   1145\u001b[0m     )\n",
      "\u001b[1;31mKeyboardInterrupt\u001b[0m: "
     ]
    }
   ],
   "source": [
    "def grid_search(vocab_size, num_classes, train_dataset, val_dataset, label_map, device):\n",
    "    param_grid = {\n",
    "        # The best hyperparameters found is commented out\n",
    "        \"type\": [\"LSTM\", \"GRU\", \"RNN\"], # \"LSTM\"\n",
    "        \"embedding_dim\": [100, 75], # 75\n",
    "        \"hidden_size\": [512, 256], # 256\n",
    "        \"layers\": [1, 2], # 1\n",
    "        \"dropout_rnn\": [0.0, 0.2], # 0.0\n",
    "        \"dropout_fc\": [0.4, 0.6], # 0.4\n",
    "        \"learning_rate\": [0.001, 0.0005], # 0.0001\n",
    "        \"reg_lambda\": [0.0001, 0.00005], # 0.0001\n",
    "        \"batch_size\": [16, 32], # 16\n",
    "    }\n",
    "    \n",
    "    # Generate all combinations of hyperparameters\n",
    "    keys, values = zip(*param_grid.items())\n",
    "    configs = [dict(zip(keys, v)) for v in itertools.product(*values)]\n",
    "    total_configs = len(configs)\n",
    "\n",
    "    best_val_f1_score = 0\n",
    "    results_list = []\n",
    "    for i, config in enumerate(configs):\n",
    "        label = f\"model_{i}\"\n",
    "        print(f\"Training model: {label} ({i+1}/{total_configs})\")\n",
    "        print(json.dumps(config, indent=4))\n",
    "        \n",
    "        train_loader = DataLoader(train_dataset, batch_size=config[\"batch_size\"], shuffle=True)\n",
    "        val_loader = DataLoader(val_dataset, batch_size=config[\"batch_size\"], shuffle=False)\n",
    "        \n",
    "        # Model\n",
    "        model = RNN_model(\n",
    "            type=config[\"type\"],\n",
    "            vocab_size=vocab_size,\n",
    "            embedding_dim=config[\"embedding_dim\"],\n",
    "            hidden_size=config[\"hidden_size\"],\n",
    "            num_classes=num_classes,\n",
    "            num_layers=config[\"layers\"],\n",
    "            dropout_rnn=config[\"dropout_rnn\"],\n",
    "            dropout_fc=config[\"dropout_fc\"],\n",
    "        )\n",
    "\n",
    "        # Train\n",
    "        results = train_model(\n",
    "            label=label,\n",
    "            model=model,\n",
    "            train_loader=train_loader,\n",
    "            val_loader=val_loader,\n",
    "            label_map=label_map,\n",
    "            device=device,\n",
    "            optimizer_type=\"AdamW\",\n",
    "            learning_rate=config[\"learning_rate\"],\n",
    "            reg_type=\"L2\",\n",
    "            reg_lambda=config[\"reg_lambda\"],\n",
    "            num_epochs=10\n",
    "        )\n",
    "        \n",
    "        # Track the best model\n",
    "        current_val_f1_score = max(results[\"val_f1_scores\"])\n",
    "        if current_val_f1_score > best_val_f1_score:\n",
    "            best_val_f1_score = current_val_f1_score\n",
    "            best_model_label = label\n",
    "            print(f\"New best model found: {best_model_label} with val f1 score: {best_val_f1_score:.4f}\")\n",
    "\n",
    "        # Add results to list\n",
    "        results[\"config\"] = config\n",
    "        results_list.append(results)\n",
    "\n",
    "    # Save results\n",
    "    with open(\"results/grid_search_results.json\", \"w\") as f:\n",
    "        json.dump(results_list, f, indent=4)\n",
    "    \n",
    "    print(f\"Best model found: {best_model_label}\")\n",
    "\n",
    "grid_search(vocab_size, num_classes, train_dataset, val_dataset, label_map, device)"
   ]
  },
  {
   "cell_type": "markdown",
   "metadata": {},
   "source": [
    "## Best RNN model"
   ]
  },
  {
   "cell_type": "code",
   "execution_count": 21,
   "metadata": {},
   "outputs": [
    {
     "name": "stdout",
     "output_type": "stream",
     "text": [
      "Epoch 1/4 (5s) | Train: loss 43.751, acc 41.00%, f1 34.44% | Val: loss 1.2542, acc 52.25%, f1 47.21%\n",
      "Epoch 2/4 (4s) | Train: loss 13.1825, acc 68.52%, f1 67.47% | Val: loss 0.7691, acc 75.10%, f1 74.84%\n",
      "Epoch 3/4 (4s) | Train: loss 5.1023, acc 83.11%, f1 83.00% | Val: loss 0.5537, acc 82.20%, f1 82.08%\n",
      "Epoch 4/4 (4s) | Train: loss 2.5927, acc 86.90%, f1 86.83% | Val: loss 0.5106, acc 81.40%, f1 81.45%\n",
      "Total Training Time: 18s\n",
      "\n",
      "accuracy: 0.814\n",
      "f1: 0.8145\n",
      "precision: 0.8176\n",
      "recall: 0.814\n",
      "classification report:\n",
      "              precision    recall  f1-score   support\n",
      "\n",
      "     sadness       0.83      0.89      0.86       550\n",
      "         joy       0.88      0.84      0.86       704\n",
      "        love       0.63      0.73      0.68       178\n",
      "       anger       0.80      0.78      0.79       275\n",
      "        fear       0.80      0.69      0.74       212\n",
      "    surprise       0.71      0.73      0.72        81\n",
      "\n",
      "    accuracy                           0.81      2000\n",
      "   macro avg       0.77      0.78      0.77      2000\n",
      "weighted avg       0.82      0.81      0.81      2000\n",
      "\n",
      "confusion matrix:\n",
      "[489, 23, 9, 15, 11, 3]\n",
      "[34, 588, 55, 14, 8, 5]\n",
      "[9, 26, 130, 10, 2, 1]\n",
      "[33, 12, 5, 215, 9, 1]\n",
      "[25, 8, 5, 13, 147, 14]\n",
      "[1, 9, 3, 3, 6, 59]\n",
      "\n"
     ]
    },
    {
     "data": {
      "image/png": "[encoded data removed]",
      "text/plain": [
       "<Figure size 900x300 with 3 Axes>"
      ]
     },
     "metadata": {},
     "output_type": "display_data"
    }
   ],
   "source": [
    "label = \"best_rnn_model\"\n",
    "best_batch_size = 16\n",
    "\n",
    "train_loader = DataLoader(train_dataset, batch_size=best_batch_size, shuffle=True)\n",
    "val_loader = DataLoader(val_dataset, batch_size=best_batch_size, shuffle=False)\n",
    "\n",
    "best_rnn_model = RNN_model(\n",
    "    type=\"LSTM\",\n",
    "    vocab_size=vocab_size,\n",
    "    embedding_dim=75,\n",
    "    hidden_size=256,\n",
    "    num_classes=num_classes,\n",
    "    num_layers=1,\n",
    "    dropout_rnn=0.0,\n",
    "    dropout_fc=0.4,\n",
    ")\n",
    "\n",
    "best_rnn_results = train_model(\n",
    "    label=label,\n",
    "    model=best_rnn_model,\n",
    "    train_loader=train_loader,\n",
    "    val_loader=val_loader,\n",
    "    label_map=label_map,\n",
    "    device=device,\n",
    "    optimizer_type=\"AdamW\",\n",
    "    learning_rate=0.001,\n",
    "    reg_type=\"L2\",\n",
    "    reg_lambda=0.0001,\n",
    "    num_epochs=4\n",
    ")\n",
    "\n",
    "plot_scores(best_rnn_results, label)"
   ]
  },
  {
   "cell_type": "markdown",
   "metadata": {},
   "source": [
    "# Task 3: Transformer model"
   ]
  },
  {
   "cell_type": "markdown",
   "metadata": {},
   "source": [
    "# Task 4: Analysis"
   ]
  },
  {
   "cell_type": "code",
   "execution_count": 22,
   "metadata": {},
   "outputs": [
    {
     "name": "stdout",
     "output_type": "stream",
     "text": [
      "accuracy: 0.8235\n",
      "f1: 0.8254\n",
      "precision: 0.8307\n",
      "recall: 0.8235\n",
      "classification report:\n",
      "              precision    recall  f1-score   support\n",
      "\n",
      "     sadness       0.86      0.89      0.87       581\n",
      "         joy       0.88      0.83      0.85       695\n",
      "        love       0.57      0.72      0.63       159\n",
      "       anger       0.81      0.84      0.82       275\n",
      "        fear       0.87      0.74      0.80       224\n",
      "    surprise       0.67      0.70      0.68        66\n",
      "\n",
      "    accuracy                           0.82      2000\n",
      "   macro avg       0.77      0.78      0.78      2000\n",
      "weighted avg       0.83      0.82      0.83      2000\n",
      "\n",
      "confusion matrix:\n",
      "[515, 32, 9, 16, 8, 1]\n",
      "[27, 576, 67, 12, 5, 8]\n",
      "[13, 19, 114, 11, 0, 2]\n",
      "[18, 13, 6, 231, 6, 1]\n",
      "[22, 6, 5, 15, 165, 11]\n",
      "[2, 11, 0, 1, 6, 46]\n",
      "\n"
     ]
    }
   ],
   "source": [
    "test_loader = DataLoader(test_dataset, batch_size=best_batch_size, shuffle=True)\n",
    "\n",
    "predict(\"best_rnn_model\", best_rnn_model, device, test_loader, label_map, reverse_vocab)"
   ]
  },
  {
   "cell_type": "markdown",
   "metadata": {},
   "source": [
    "# Task 5: Pre-trained model (transfer learning)"
   ]
  },
  {
   "cell_type": "code",
   "execution_count": 31,
   "metadata": {},
   "outputs": [
    {
     "name": "stderr",
     "output_type": "stream",
     "text": [
      "Map: 100%|██████████| 14331/14331 [00:00<00:00, 35975.49 examples/s]\n",
      "Map: 100%|██████████| 2000/2000 [00:00<00:00, 36246.85 examples/s]\n",
      "Map: 100%|██████████| 2000/2000 [00:00<00:00, 35706.84 examples/s]\n",
      "Some weights of DistilBertForSequenceClassification were not initialized from the model checkpoint at distilbert-base-uncased and are newly initialized: ['classifier.bias', 'classifier.weight', 'pre_classifier.bias', 'pre_classifier.weight']\n",
      "You should probably TRAIN this model on a down-stream task to be able to use it for predictions and inference.\n",
      "c:\\Users\\henri\\miniconda3\\envs\\deep\\Lib\\site-packages\\transformers\\training_args.py:1568: FutureWarning: `evaluation_strategy` is deprecated and will be removed in version 4.46 of 🤗 Transformers. Use `eval_strategy` instead\n",
      "  warnings.warn(\n",
      " 51%|█████     | 1135/2240 [01:24<01:06, 16.69it/s]\n",
      " 51%|█████     | 1135/2240 [01:48<01:06, 16.69it/s]"
     ]
    },
    {
     "name": "stdout",
     "output_type": "stream",
     "text": [
      "{'loss': 1.2678, 'grad_norm': 3.6954033374786377, 'learning_rate': 4.000000000000001e-06, 'epoch': 1.0}\n"
     ]
    },
    {
     "name": "stderr",
     "output_type": "stream",
     "text": [
      "\n",
      "\u001b[A\n",
      "\u001b[A\n",
      "\u001b[A\n",
      "\u001b[A\n",
      "\u001b[A\n",
      "\u001b[A\n",
      "\u001b[A\n",
      "\u001b[A\n",
      "\n",
      "\u001b[A\u001b[A                                         \n",
      "                                                   \n",
      " 51%|█████     | 1135/2240 [01:49<01:06, 16.69it/s]\n",
      "\u001b[A"
     ]
    },
    {
     "name": "stdout",
     "output_type": "stream",
     "text": [
      "{'eval_loss': 0.8108487725257874, 'eval_accuracy': 0.744, 'eval_f1': 0.6883386613356495, 'eval_runtime': 0.9383, 'eval_samples_per_second': 2131.546, 'eval_steps_per_second': 34.105, 'epoch': 1.0}\n"
     ]
    },
    {
     "name": "stderr",
     "output_type": "stream",
     "text": [
      "\n",
      " 51%|█████     | 1135/2240 [02:17<01:06, 16.69it/s]"
     ]
    },
    {
     "name": "stdout",
     "output_type": "stream",
     "text": [
      "{'loss': 0.6604, 'grad_norm': 7.215289115905762, 'learning_rate': 3e-06, 'epoch': 2.0}\n"
     ]
    },
    {
     "name": "stderr",
     "output_type": "stream",
     "text": [
      "\n",
      "\u001b[A\n",
      "\u001b[A\n",
      "\u001b[A\n",
      "\u001b[A\n",
      "\u001b[A\n",
      "\u001b[A\n",
      "\u001b[A\n",
      "\u001b[A\n",
      "\n",
      "\u001b[A\u001b[A                                         \n",
      "                                                   \n",
      " 51%|█████     | 1135/2240 [02:18<01:06, 16.69it/s]\n",
      "\u001b[A"
     ]
    },
    {
     "name": "stdout",
     "output_type": "stream",
     "text": [
      "{'eval_loss': 0.46210265159606934, 'eval_accuracy': 0.8655, 'eval_f1': 0.8598854278819644, 'eval_runtime': 0.9362, 'eval_samples_per_second': 2136.321, 'eval_steps_per_second': 34.181, 'epoch': 2.0}\n"
     ]
    },
    {
     "name": "stderr",
     "output_type": "stream",
     "text": [
      "\n",
      " 51%|█████     | 1135/2240 [02:48<01:06, 16.69it/s]"
     ]
    },
    {
     "name": "stdout",
     "output_type": "stream",
     "text": [
      "{'loss': 0.4357, 'grad_norm': 7.41692590713501, 'learning_rate': 2.0000000000000003e-06, 'epoch': 3.0}\n"
     ]
    },
    {
     "name": "stderr",
     "output_type": "stream",
     "text": [
      "\n",
      "\u001b[A\n",
      "\u001b[A\n",
      "\u001b[A\n",
      "\u001b[A\n",
      "\u001b[A\n",
      "\u001b[A\n",
      "\u001b[A\n",
      "\u001b[A\n",
      "\n",
      "\u001b[A\u001b[A                                         \n",
      "                                                   \n",
      " 51%|█████     | 1135/2240 [02:49<01:06, 16.69it/s]\n",
      "\u001b[A"
     ]
    },
    {
     "name": "stdout",
     "output_type": "stream",
     "text": [
      "{'eval_loss': 0.3447090983390808, 'eval_accuracy': 0.896, 'eval_f1': 0.8946950487439271, 'eval_runtime': 0.9273, 'eval_samples_per_second': 2156.894, 'eval_steps_per_second': 34.51, 'epoch': 3.0}\n"
     ]
    },
    {
     "name": "stderr",
     "output_type": "stream",
     "text": [
      "\n",
      " 51%|█████     | 1135/2240 [03:17<01:06, 16.69it/s]"
     ]
    },
    {
     "name": "stdout",
     "output_type": "stream",
     "text": [
      "{'loss': 0.3439, 'grad_norm': 5.281696319580078, 'learning_rate': 1.0000000000000002e-06, 'epoch': 4.0}\n"
     ]
    },
    {
     "name": "stderr",
     "output_type": "stream",
     "text": [
      "\n",
      "\u001b[A\n",
      "\u001b[A\n",
      "\u001b[A\n",
      "\u001b[A\n",
      "\u001b[A\n",
      "\u001b[A\n",
      "\u001b[A\n",
      "\u001b[A\n",
      "\n",
      "\u001b[A\u001b[A                                         \n",
      "                                                   \n",
      " 51%|█████     | 1135/2240 [03:18<01:06, 16.69it/s]\n",
      "\u001b[A"
     ]
    },
    {
     "name": "stdout",
     "output_type": "stream",
     "text": [
      "{'eval_loss': 0.30358123779296875, 'eval_accuracy': 0.9105, 'eval_f1': 0.9099079530323376, 'eval_runtime': 0.9372, 'eval_samples_per_second': 2134.017, 'eval_steps_per_second': 34.144, 'epoch': 4.0}\n"
     ]
    },
    {
     "name": "stderr",
     "output_type": "stream",
     "text": [
      "\n",
      " 51%|█████     | 1135/2240 [03:49<01:06, 16.69it/s]"
     ]
    },
    {
     "name": "stdout",
     "output_type": "stream",
     "text": [
      "{'loss': 0.3122, 'grad_norm': 4.924437999725342, 'learning_rate': 0.0, 'epoch': 5.0}\n"
     ]
    },
    {
     "name": "stderr",
     "output_type": "stream",
     "text": [
      "\n",
      "\u001b[A\n",
      "\u001b[A\n",
      "\u001b[A\n",
      "\u001b[A\n",
      "\u001b[A\n",
      "\u001b[A\n",
      "\u001b[A\n",
      "\u001b[A\n",
      "\n",
      "\u001b[A\u001b[A                                         \n",
      "                                                   \n",
      " 51%|█████     | 1135/2240 [03:50<01:06, 16.69it/s]\n",
      "\u001b[A"
     ]
    },
    {
     "name": "stdout",
     "output_type": "stream",
     "text": [
      "{'eval_loss': 0.29577767848968506, 'eval_accuracy': 0.908, 'eval_f1': 0.9077779457481324, 'eval_runtime': 0.9429, 'eval_samples_per_second': 2121.02, 'eval_steps_per_second': 33.936, 'epoch': 5.0}\n"
     ]
    },
    {
     "name": "stderr",
     "output_type": "stream",
     "text": [
      "\n",
      "100%|██████████| 2240/2240 [02:31<00:00, 14.75it/s]\n"
     ]
    },
    {
     "name": "stdout",
     "output_type": "stream",
     "text": [
      "{'train_runtime': 151.8359, 'train_samples_per_second': 471.924, 'train_steps_per_second': 14.753, 'train_loss': 0.6040296077728271, 'epoch': 5.0}\n"
     ]
    },
    {
     "name": "stderr",
     "output_type": "stream",
     "text": [
      "100%|██████████| 32/32 [00:00<00:00, 32.89it/s]\n"
     ]
    },
    {
     "name": "stdout",
     "output_type": "stream",
     "text": [
      "Best Model Evaluation Results:\n",
      " {'eval_loss': 0.30358123779296875, 'eval_accuracy': 0.9105, 'eval_f1': 0.9099079530323376, 'eval_runtime': 1.0115, 'eval_samples_per_second': 1977.31, 'eval_steps_per_second': 31.637, 'epoch': 5.0}\n"
     ]
    },
    {
     "data": {
      "text/plain": [
       "('models/distilbert_finetuned\\\\tokenizer_config.json',\n",
       " 'models/distilbert_finetuned\\\\special_tokens_map.json',\n",
       " 'models/distilbert_finetuned\\\\vocab.txt',\n",
       " 'models/distilbert_finetuned\\\\added_tokens.json',\n",
       " 'models/distilbert_finetuned\\\\tokenizer.json')"
      ]
     },
     "execution_count": 31,
     "metadata": {},
     "output_type": "execute_result"
    }
   ],
   "source": [
    "model_name = \"distilbert-base-uncased\"\n",
    "num_epochs = 5\n",
    "learning_rate = 5e-6\n",
    "max_length = 32 # different max length as we are using raw data to be tokenized using the pretrained tokenizer\n",
    "batch_size = 32\n",
    "label2id = {v: k for k, v in label_map.items()}\n",
    "\n",
    "# Metric function\n",
    "def pretrained_evaluation(predictions):\n",
    "    preds = predictions.predictions.argmax(-1) # get predicted labels\n",
    "    labels = predictions.label_ids\n",
    "    accuracy = accuracy_score(labels, preds)\n",
    "    f1 = f1_score(labels, preds, average=\"weighted\")\n",
    "    return {\"accuracy\": accuracy, \"f1\": f1}\n",
    "\n",
    "# Load tokenizer\n",
    "tokenizer_pretrained = AutoTokenizer.from_pretrained(model_name)\n",
    "\n",
    "# Preprocessing function\n",
    "def tokenize(batch):\n",
    "    return tokenizer_pretrained(batch[\"text\"], padding=\"max_length\", truncation=True, max_length=max_length)\n",
    "\n",
    "# Convert pandas DataFrame to Hugging Face Dataset\n",
    "train_dataset = Dataset.from_pandas(train_df)\n",
    "val_dataset = Dataset.from_pandas(val_df)\n",
    "test_dataset = Dataset.from_pandas(test_df)\n",
    "\n",
    "# Tokenize datasets\n",
    "train_dataset = train_dataset.map(tokenize, batched=True)\n",
    "val_dataset = val_dataset.map(tokenize, batched=True)\n",
    "test_dataset = test_dataset.map(tokenize, batched=True)\n",
    "\n",
    "# Set format for PyTorch\n",
    "train_dataset = train_dataset.rename_column(\"label\", \"labels\")\n",
    "val_dataset = val_dataset.rename_column(\"label\", \"labels\")\n",
    "test_dataset = test_dataset.rename_column(\"label\", \"labels\")\n",
    "train_dataset.set_format(type=\"torch\", columns=[\"input_ids\", \"attention_mask\", \"labels\"])\n",
    "val_dataset.set_format(type=\"torch\", columns=[\"input_ids\", \"attention_mask\", \"labels\"])\n",
    "test_dataset.set_format(type=\"torch\", columns=[\"input_ids\", \"attention_mask\", \"labels\"])\n",
    "\n",
    "# Load pre-trained model\n",
    "model = AutoModelForSequenceClassification.from_pretrained(\n",
    "    model_name,\n",
    "    num_labels=num_classes,\n",
    "    id2label=label_map,\n",
    "    label2id=label2id\n",
    ")\n",
    "\n",
    "# Training arguments\n",
    "training_args = TrainingArguments(\n",
    "    output_dir=\"results\",\n",
    "    eval_strategy=\"epoch\", # evaluate at the end of each epoch\n",
    "    save_strategy=\"epoch\", # save checkpoints after every epoch\n",
    "    logging_strategy=\"epoch\",\n",
    "    learning_rate=learning_rate,\n",
    "    per_device_train_batch_size=batch_size,\n",
    "    per_device_eval_batch_size=64,\n",
    "    weight_decay=0.01,\n",
    "    num_train_epochs=num_epochs,\n",
    "    load_best_model_at_end=True, # load best model at the end of training\n",
    "    metric_for_best_model=\"f1\", # specify metric to monitor\n",
    "    save_total_limit=1, # keep only the best checkpoint\n",
    ")\n",
    "\n",
    "# Define Trainer\n",
    "trainer = Trainer(\n",
    "    model=model,\n",
    "    args=training_args,\n",
    "    train_dataset=train_dataset,\n",
    "    eval_dataset=val_dataset,\n",
    "    compute_metrics=pretrained_evaluation, # compute metrics during evaluation\n",
    ")\n",
    "\n",
    "# Train model\n",
    "trainer.train()\n",
    "\n",
    "# Evaluate best model\n",
    "best_results = trainer.evaluate()\n",
    "print(f\"Best Model Evaluation Results:\\n {best_results}\")\n",
    "\n",
    "# Save best fine-tuned model\n",
    "fine_tuned_model_name = \"distilbert_finetuned\"\n",
    "trainer.save_model(f\"models/{fine_tuned_model_name}\")\n",
    "tokenizer_pretrained.save_pretrained(f\"models/{fine_tuned_model_name}\")"
   ]
  },
  {
   "cell_type": "code",
   "execution_count": 32,
   "metadata": {},
   "outputs": [
    {
     "name": "stderr",
     "output_type": "stream",
     "text": [
      "100%|██████████| 250/250 [00:01<00:00, 152.01it/s]\n"
     ]
    },
    {
     "name": "stdout",
     "output_type": "stream",
     "text": [
      "accuracy: 0.8885\n",
      "f1: 0.8871\n",
      "precision: 0.8869\n",
      "recall: 0.8885\n",
      "classification report:\n",
      "              precision    recall  f1-score   support\n",
      "\n",
      "     sadness       0.92      0.93      0.93       581\n",
      "         joy       0.89      0.92      0.91       695\n",
      "        love       0.74      0.70      0.72       159\n",
      "       anger       0.90      0.90      0.90       275\n",
      "        fear       0.90      0.87      0.88       224\n",
      "    surprise       0.80      0.61      0.69        66\n",
      "\n",
      "    accuracy                           0.89      2000\n",
      "   macro avg       0.86      0.82      0.84      2000\n",
      "weighted avg       0.89      0.89      0.89      2000\n",
      "\n",
      "confusion matrix:\n",
      "[543, 20, 3, 11, 4, 0]\n",
      "[14, 641, 32, 6, 1, 1]\n",
      "[6, 39, 111, 3, 0, 0]\n",
      "[14, 7, 2, 247, 5, 0]\n",
      "[11, 2, 0, 7, 195, 9]\n",
      "[4, 9, 1, 0, 12, 40]\n",
      "\n"
     ]
    }
   ],
   "source": [
    "# Load fine-tuned model\n",
    "tokenizer_new = AutoTokenizer.from_pretrained(f\"models/{fine_tuned_model_name}\")\n",
    "model_new = AutoModelForSequenceClassification.from_pretrained(f\"models/{fine_tuned_model_name}\", num_labels=num_classes)\n",
    "trainer = Trainer(model=model_new)\n",
    "\n",
    "# Predict on test set\n",
    "predictions = trainer.predict(test_dataset)\n",
    "\n",
    "# Extract logits and compute predicted labels\n",
    "logits = torch.tensor(predictions.predictions) # convert logits to a PyTorch tensor\n",
    "predicted_labels = torch.argmax(logits, dim=1).numpy() # convert to numpy array for sklearn metrics\n",
    "\n",
    "# Evaluate predictions\n",
    "metrics = compute_metrics(test_df[\"label\"], predicted_labels, label_map.values())\n",
    "print_metrics(metrics)\n",
    "save_metrics(fine_tuned_model_name, metrics)"
   ]
  }
 ],
 "metadata": {
  "kernelspec": {
   "display_name": "deep",
   "language": "python",
   "name": "python3"
  },
  "language_info": {
   "codemirror_mode": {
    "name": "ipython",
    "version": 3
   },
   "file_extension": ".py",
   "mimetype": "text/x-python",
   "name": "python",
   "nbconvert_exporter": "python",
   "pygments_lexer": "ipython3",
   "version": "3.12.7"
  }
 },
 "nbformat": 4,
 "nbformat_minor": 2
}
