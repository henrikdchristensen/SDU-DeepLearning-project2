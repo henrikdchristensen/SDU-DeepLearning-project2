{
 "cells": [
  {
   "cell_type": "markdown",
   "metadata": {},
   "source": [
    "## Libraries"
   ]
  },
  {
   "cell_type": "code",
   "execution_count": 1,
   "metadata": {},
   "outputs": [
    {
     "name": "stderr",
     "output_type": "stream",
     "text": [
      "c:\\Users\\henri\\miniconda3\\envs\\deep\\Lib\\site-packages\\tqdm\\auto.py:21: TqdmWarning: IProgress not found. Please update jupyter and ipywidgets. See https://ipywidgets.readthedocs.io/en/stable/user_install.html\n",
      "  from .autonotebook import tqdm as notebook_tqdm\n"
     ]
    }
   ],
   "source": [
    "import matplotlib.pyplot as plt\n",
    "\n",
    "from nltk.tokenize import RegexpTokenizer\n",
    "\n",
    "import pandas as pd\n",
    "\n",
    "import torch\n",
    "from torch.utils.data import DataLoader\n",
    "\n",
    "from transformers import BertForSequenceClassification, Trainer, TrainingArguments\n",
    "from datasets import Dataset\n",
    "\n",
    "from emotion_dataset import EmotionDataset\n",
    "from rnn_lstm_model import RNN_LSTM_model\n",
    "\n",
    "from loader import loader\n",
    "from train_model import train_model\n",
    "from plot_scores import plot_scores\n",
    "from predict import predict\n",
    "from predict_on_fly import predict_on_fly\n",
    "\n",
    "from sklearn.metrics import (\n",
    "    accuracy_score,\n",
    "    f1_score,\n",
    "    precision_score,\n",
    "    recall_score,\n",
    "    classification_report,\n",
    "    confusion_matrix,\n",
    ")\n",
    "\n",
    "from collections import Counter\n",
    "from itertools import chain"
   ]
  },
  {
   "cell_type": "markdown",
   "metadata": {},
   "source": [
    "## Device"
   ]
  },
  {
   "cell_type": "code",
   "execution_count": 2,
   "metadata": {},
   "outputs": [
    {
     "name": "stdout",
     "output_type": "stream",
     "text": [
      "Using cuda\n"
     ]
    }
   ],
   "source": [
    "device = torch.device(\"cuda\" if torch.cuda.is_available() else \"cpu\")\n",
    "print(f\"Using {device}\")"
   ]
  },
  {
   "cell_type": "markdown",
   "metadata": {},
   "source": [
    "## Load and save dataset"
   ]
  },
  {
   "cell_type": "code",
   "execution_count": 3,
   "metadata": {},
   "outputs": [],
   "source": [
    "labels_csv_path = \"data/labels.csv\"\n",
    "train_csv_path = \"data/train.csv\"\n",
    "val_csv_path = \"data/val.csv\"\n",
    "test_csv_path = \"data/test.csv\"\n",
    "\n",
    "data = loader(labels_csv_path, train_csv_path, val_csv_path, test_csv_path)\n",
    "\n",
    "train_df = data[\"train\"]\n",
    "val_df = data[\"val\"]\n",
    "test_df = data[\"test\"]\n",
    "labels_df = data[\"labels\"]"
   ]
  },
  {
   "cell_type": "markdown",
   "metadata": {},
   "source": [
    "# Task 1: Data Preparation"
   ]
  },
  {
   "cell_type": "markdown",
   "metadata": {},
   "source": [
    "## Data set"
   ]
  },
  {
   "cell_type": "code",
   "execution_count": 4,
   "metadata": {},
   "outputs": [
    {
     "name": "stdout",
     "output_type": "stream",
     "text": [
      "# train sentences: 16000\n",
      "# validation sentences: 2000\n",
      "# test sentences: 2000\n",
      "\n",
      " Index   Labels\n",
      "     0  sadness\n",
      "     1      joy\n",
      "     2     love\n",
      "     3    anger\n",
      "     4     fear\n",
      "     5 surprise\n"
     ]
    }
   ],
   "source": [
    "# Print number of examples\n",
    "print(f\"# train sentences: {len(train_df)}\")\n",
    "print(f\"# validation sentences: {len(val_df)}\")\n",
    "print(f\"# test sentences: {len(test_df)}\")\n",
    "print(f\"\\n{labels_df.to_string(index=False)}\")"
   ]
  },
  {
   "cell_type": "markdown",
   "metadata": {},
   "source": [
    "## Step 1: Dataset Preparation"
   ]
  },
  {
   "cell_type": "markdown",
   "metadata": {},
   "source": [
    "### Label distribution"
   ]
  },
  {
   "cell_type": "code",
   "execution_count": 5,
   "metadata": {},
   "outputs": [
    {
     "name": "stdout",
     "output_type": "stream",
     "text": [
      "Number of classes: 6\n",
      "Label Mapping: {0: 'sadness', 1: 'joy', 2: 'love', 3: 'anger', 4: 'fear', 5: 'surprise'}\n",
      "\n",
      "Training Label Distribution:\n",
      "text_label\n",
      "joy         5362\n",
      "sadness     4666\n",
      "anger       2159\n",
      "fear        1937\n",
      "love        1304\n",
      "surprise     572\n",
      "Name: count, dtype: int64\n"
     ]
    },
    {
     "data": {
      "image/png": "[encoded data removed]",
      "text/plain": [
       "<Figure size 1000x600 with 1 Axes>"
      ]
     },
     "metadata": {},
     "output_type": "display_data"
    }
   ],
   "source": [
    "# Create a mapper for label numbers to text labels\n",
    "num_classes = labels_df[\"Labels\"].size\n",
    "print(f\"Number of classes: {num_classes}\")\n",
    "label_mapping = {index: label for index, label in labels_df.values}\n",
    "print(\"Label Mapping:\", label_mapping)\n",
    "\n",
    "# Map numeric labels to text labels in the train, validation, and test sets\n",
    "train_df[\"text_label\"] = train_df[\"label\"].map(label_mapping)\n",
    "val_df[\"text_label\"] = val_df[\"label\"].map(label_mapping)\n",
    "test_df[\"text_label\"] = test_df[\"label\"].map(label_mapping)\n",
    "\n",
    "# Print the label distribution for training set\n",
    "train_label_counts = train_df[\"text_label\"].value_counts()\n",
    "print(\"\\nTraining Label Distribution:\")\n",
    "print(train_label_counts)\n",
    "\n",
    "# Plot the label distribution\n",
    "plt.figure(figsize=(10, 6))\n",
    "train_label_counts.plot(kind=\"bar\")\n",
    "plt.title(\"Training Label Distribution\")\n",
    "plt.xlabel(\"Labels\")\n",
    "plt.ylabel(\"Count\")\n",
    "plt.xticks(rotation=45)\n",
    "plt.show()"
   ]
  },
  {
   "cell_type": "markdown",
   "metadata": {},
   "source": [
    "## Step 2: Tokenizing"
   ]
  },
  {
   "cell_type": "markdown",
   "metadata": {},
   "source": [
    "### Tokenizer"
   ]
  },
  {
   "cell_type": "code",
   "execution_count": 6,
   "metadata": {},
   "outputs": [
    {
     "name": "stdout",
     "output_type": "stream",
     "text": [
      "['This', '?', 'is', 'a', 'custom', 'tokenization', 'example', '!']\n"
     ]
    }
   ],
   "source": [
    "tokenizer = RegexpTokenizer(r\"[a-zA-Z0-9]+|[!?'´`]+\") # characters that don’t match the pattern act as separators.\n",
    "example_sentence = \"This?.is,a:custom;tokenization example!<\"\n",
    "example_tokens = tokenizer.tokenize(example_sentence)\n",
    "print(example_tokens)"
   ]
  },
  {
   "cell_type": "markdown",
   "metadata": {},
   "source": [
    "### Tokenize each split"
   ]
  },
  {
   "cell_type": "code",
   "execution_count": 7,
   "metadata": {},
   "outputs": [
    {
     "name": "stdout",
     "output_type": "stream",
     "text": [
      "# words in train vocab: 15212\n"
     ]
    }
   ],
   "source": [
    "train_tokens = [tokenizer.tokenize(text.lower()) for text in train_df[\"text\"]]\n",
    "val_tokens = [tokenizer.tokenize(text.lower()) for text in val_df[\"text\"]]\n",
    "test_tokens = [tokenizer.tokenize(text.lower()) for text in test_df[\"text\"]]\n",
    "\n",
    "train_vocab = set(token for tokens in train_tokens for token in tokens)\n",
    "\n",
    "print(f\"# words in train vocab: {len(train_vocab)}\")"
   ]
  },
  {
   "cell_type": "markdown",
   "metadata": {},
   "source": [
    "### Sentence length distribution"
   ]
  },
  {
   "cell_type": "code",
   "execution_count": 8,
   "metadata": {},
   "outputs": [
    {
     "name": "stdout",
     "output_type": "stream",
     "text": [
      "Length range for train: from 2 to 66 words\n",
      "Mean length for train: 19 words\n",
      "Standard deviation for train: 121\n"
     ]
    },
    {
     "data": {
      "image/png": "[encoded data removed]",
      "text/plain": [
       "<Figure size 640x480 with 1 Axes>"
      ]
     },
     "metadata": {},
     "output_type": "display_data"
    }
   ],
   "source": [
    "train_lengths = [len(tokens) for tokens in train_tokens]\n",
    "\n",
    "print(f\"Length range for train: from {min(train_lengths)} to {max(train_lengths)} words\")\n",
    "print(f\"Mean length for train: {sum(train_lengths) / len(train_lengths):.0f} words\")\n",
    "print(f\"Standard deviation for train: {sum([(length - sum(train_lengths) / len(train_lengths)) ** 2 for length in train_lengths]) / len(train_lengths):.0f}\")\n",
    "\n",
    "plt.hist(train_lengths, bins=range(0, 100, 5), rwidth=0.8)\n",
    "plt.title(\"Distribution of text lengths for Train dataset\")\n",
    "plt.show()"
   ]
  },
  {
   "cell_type": "markdown",
   "metadata": {},
   "source": [
    "### Word frequency"
   ]
  },
  {
   "cell_type": "code",
   "execution_count": 9,
   "metadata": {},
   "outputs": [
    {
     "name": "stdout",
     "output_type": "stream",
     "text": [
      "   Word  Count\n",
      "      i  25859\n",
      "   feel  11183\n",
      "    and   9589\n",
      "     to   8972\n",
      "    the   8370\n",
      "      a   6200\n",
      "feeling   5112\n",
      "   that   5112\n",
      "     of   4990\n",
      "     my   4283\n"
     ]
    }
   ],
   "source": [
    "top_n = 10\n",
    "\n",
    "flat_tokens = list(chain.from_iterable(train_tokens))\n",
    "most_common_word_counts = Counter(flat_tokens).most_common(top_n)\n",
    "print(pd.DataFrame(most_common_word_counts, columns=[\"Word\", \"Count\"]).to_string(index=False))"
   ]
  },
  {
   "cell_type": "markdown",
   "metadata": {},
   "source": [
    "## Step 3: Build a vocabulary"
   ]
  },
  {
   "cell_type": "code",
   "execution_count": 10,
   "metadata": {},
   "outputs": [
    {
     "name": "stdout",
     "output_type": "stream",
     "text": [
      "Vocabulary size: 15214\n"
     ]
    }
   ],
   "source": [
    "vocab = {\"<PAD>\": 0, \"<UNK>\": 1}\n",
    "for tokens in train_tokens:\n",
    "    for token in tokens:\n",
    "        if token not in vocab:\n",
    "            vocab[token] = len(vocab)\n",
    "\n",
    "vocab_size = len(vocab)\n",
    "print(f\"Vocabulary size: {vocab_size}\")\n",
    "\n",
    "reverse_vocab = {v: k for k, v in vocab.items()}"
   ]
  },
  {
   "cell_type": "markdown",
   "metadata": {},
   "source": [
    "## Step 4: Encode all texts with the vocabulary"
   ]
  },
  {
   "cell_type": "code",
   "execution_count": 11,
   "metadata": {},
   "outputs": [],
   "source": [
    "def encode_text(tokens): # i.e. words to integers\n",
    "    return [vocab[token] if token in vocab else 1 for token in tokens]\n",
    "\n",
    "train_encoded = [encode_text(tokens) for tokens in train_tokens]\n",
    "val_encoded = [encode_text(tokens) for tokens in val_tokens]\n",
    "test_encoded = [encode_text(tokens) for tokens in test_tokens]"
   ]
  },
  {
   "cell_type": "markdown",
   "metadata": {},
   "source": [
    "## Step 5: Maximum sequence length"
   ]
  },
  {
   "cell_type": "code",
   "execution_count": 12,
   "metadata": {},
   "outputs": [],
   "source": [
    "# Make all sentences equal length.\n",
    "# If too small add zeroes at the end.\n",
    "# If too long cut the end of the sentence.\n",
    "\n",
    "max_length = 23\n",
    "\n",
    "def pad_sequence(sequence):\n",
    "    return sequence[:max_length] + [0] * (max_length - len(sequence))\n",
    "\n",
    "train_padded = [pad_sequence(sequence) for sequence in train_encoded]\n",
    "val_padded = [pad_sequence(sequence) for sequence in val_encoded]\n",
    "test_padded = [pad_sequence(sequence) for sequence in test_encoded]"
   ]
  },
  {
   "cell_type": "markdown",
   "metadata": {},
   "source": [
    "# Task 2: RNN model"
   ]
  },
  {
   "cell_type": "code",
   "execution_count": 13,
   "metadata": {},
   "outputs": [
    {
     "name": "stdout",
     "output_type": "stream",
     "text": [
      "Epoch 1/10 | Train Loss: 107.1785 (acc. 32.1%) | Val Loss: 1.5807 (acc. 35.2%) | Time: 3s\n",
      "Epoch 2/10 | Train Loss: 50.3424 (acc. 32.82%) | Val Loss: 1.5805 (acc. 35.2%) | Time: 3s\n",
      "Epoch 3/10 | Train Loss: 23.9834 (acc. 33.54%) | Val Loss: 1.5948 (acc. 28.65%) | Time: 3s\n",
      "Epoch 4/10 | Train Loss: 11.6235 (acc. 34.37%) | Val Loss: 1.5562 (acc. 41.15%) | Time: 3s\n",
      "Epoch 5/10 | Train Loss: 5.6936 (acc. 52.11%) | Val Loss: 1.0765 (acc. 57.6%) | Time: 3s\n",
      "Epoch 6/10 | Train Loss: 2.8682 (acc. 64.69%) | Val Loss: 0.7817 (acc. 69.7%) | Time: 3s\n",
      "Epoch 7/10 | Train Loss: 1.54 (acc. 75.97%) | Val Loss: 0.5617 (acc. 78.5%) | Time: 3s\n",
      "Epoch 8/10 | Train Loss: 0.9368 (acc. 84.98%) | Val Loss: 0.5061 (acc. 80.7%) | Time: 3s\n",
      "Epoch 9/10 | Train Loss: 0.674 (acc. 88.04%) | Val Loss: 0.3662 (acc. 86.9%) | Time: 3s\n",
      "Epoch 10/10 | Train Loss: 0.5488 (acc. 89.84%) | Val Loss: 0.3408 (acc. 87.45%) | Time: 3s\n",
      "Total Training Time: 30s\n",
      "\n",
      "Accuracy Score: 0.8745\n",
      "F1-Score: 0.8741\n",
      "Precision: 0.8759\n",
      "Recall: 0.8745\n",
      "\n",
      "Classification Report:\n",
      "              precision    recall  f1-score   support\n",
      "\n",
      "     sadness       0.92      0.93      0.92       550\n",
      "         joy       0.91      0.91      0.91       704\n",
      "        love       0.86      0.74      0.79       178\n",
      "       anger       0.79      0.89      0.84       275\n",
      "        fear       0.85      0.76      0.80       212\n",
      "    surprise       0.68      0.74      0.71        81\n",
      "\n",
      "    accuracy                           0.87      2000\n",
      "   macro avg       0.83      0.83      0.83      2000\n",
      "weighted avg       0.88      0.87      0.87      2000\n",
      "\n",
      "Confusion Matrix:\n",
      "[[511  11   0  25   2   1]\n",
      " [ 17 642  18  15   5   7]\n",
      " [  4  31 131   6   4   2]\n",
      " [  8   9   0 244  10   4]\n",
      " [ 12   9   0  16 161  14]\n",
      " [  4   3   4   2   8  60]]\n"
     ]
    },
    {
     "data": {
      "image/png": "[encoded data removed]",
      "text/plain": [
       "<Figure size 1000x500 with 2 Axes>"
      ]
     },
     "metadata": {},
     "output_type": "display_data"
    }
   ],
   "source": [
    "embedding_dim = 100\n",
    "hidden_dim = 256\n",
    "model = RNN_LSTM_model(vocab_size, embedding_dim, hidden_dim, num_classes)\n",
    "\n",
    "batch_size = 32\n",
    "\n",
    "train_labels = train_df[\"label\"].tolist()\n",
    "val_labels = val_df[\"label\"].tolist()\n",
    "train_dataset = EmotionDataset(train_padded, train_labels)\n",
    "val_dataset = EmotionDataset(val_padded, val_labels)\n",
    "train_loader = DataLoader(train_dataset, batch_size=batch_size, shuffle=True)\n",
    "val_loader = DataLoader(val_dataset, batch_size=batch_size, shuffle=False)\n",
    "\n",
    "label = \"rnn_lstm\"\n",
    "num_epochs = 10\n",
    "learning_rate = 0.001\n",
    "\n",
    "results = train_model(\n",
    "    label=label,\n",
    "    model=model,\n",
    "    train_loader=train_loader,\n",
    "    val_loader=val_loader,\n",
    "    label_mapping=label_mapping,\n",
    "    device=device,\n",
    "    optimizer_type=\"Adam\",\n",
    "    learning_rate=learning_rate,\n",
    "    weight_decay=0.0,\n",
    "    reg_type=\"L2\",\n",
    "    reg_lambda=1e-4,\n",
    "    num_epochs=num_epochs\n",
    ")\n",
    "\n",
    "plot_scores(results, label)"
   ]
  },
  {
   "cell_type": "code",
   "execution_count": 14,
   "metadata": {},
   "outputs": [
    {
     "name": "stdout",
     "output_type": "stream",
     "text": [
      "Type 'q' to quit.\n",
      "Exiting...\n"
     ]
    }
   ],
   "source": [
    "predict_on_fly(\n",
    "    model=model,\n",
    "    tokenizer=tokenizer,\n",
    "    vocab=vocab,\n",
    "    device=device,\n",
    "    label_map=label_mapping,\n",
    "    max_length=max_length\n",
    ")"
   ]
  },
  {
   "cell_type": "markdown",
   "metadata": {},
   "source": [
    "# Task 3: Transformer model"
   ]
  },
  {
   "cell_type": "markdown",
   "metadata": {},
   "source": [
    "# Task 4: Analysis"
   ]
  },
  {
   "cell_type": "code",
   "execution_count": 15,
   "metadata": {},
   "outputs": [],
   "source": [
    "test_labels = test_df[\"label\"].tolist()\n",
    "test_dataset = EmotionDataset(test_padded, test_labels)\n",
    "test_loader = DataLoader(test_dataset, batch_size=batch_size, shuffle=True)\n",
    "\n",
    "predict(label, model, device, test_loader, label_mapping, reverse_vocab)"
   ]
  },
  {
   "cell_type": "markdown",
   "metadata": {},
   "source": [
    "# Task 5: Pre-trained model"
   ]
  },
  {
   "cell_type": "code",
   "execution_count": 16,
   "metadata": {},
   "outputs": [
    {
     "name": "stderr",
     "output_type": "stream",
     "text": [
      "Some weights of BertForSequenceClassification were not initialized from the model checkpoint at bert-base-uncased and are newly initialized: ['classifier.bias', 'classifier.weight']\n",
      "You should probably TRAIN this model on a down-stream task to be able to use it for predictions and inference.\n",
      " 14%|█▍        | 500/3500 [00:46<04:34, 10.92it/s]"
     ]
    },
    {
     "name": "stdout",
     "output_type": "stream",
     "text": [
      "{'loss': 1.5894, 'grad_norm': 2.028961420059204, 'learning_rate': 2.5714285714285714e-05, 'epoch': 1.0}\n"
     ]
    },
    {
     "name": "stderr",
     "output_type": "stream",
     "text": [
      "                                                  \n",
      " 14%|█▍        | 502/3500 [00:48<23:31,  2.12it/s]"
     ]
    },
    {
     "name": "stdout",
     "output_type": "stream",
     "text": [
      "{'eval_loss': 1.5880920886993408, 'eval_runtime': 1.3987, 'eval_samples_per_second': 1429.94, 'eval_steps_per_second': 45.043, 'epoch': 1.0}\n"
     ]
    },
    {
     "name": "stderr",
     "output_type": "stream",
     "text": [
      " 29%|██▊       | 1000/3500 [01:34<03:50, 10.84it/s]"
     ]
    },
    {
     "name": "stdout",
     "output_type": "stream",
     "text": [
      "{'loss': 1.4896, 'grad_norm': 9.269027709960938, 'learning_rate': 2.1428571428571428e-05, 'epoch': 2.0}\n"
     ]
    },
    {
     "name": "stderr",
     "output_type": "stream",
     "text": [
      "                                                   \n",
      " 29%|██▊       | 1002/3500 [01:37<20:04,  2.07it/s]"
     ]
    },
    {
     "name": "stdout",
     "output_type": "stream",
     "text": [
      "{'eval_loss': 1.2235910892486572, 'eval_runtime': 1.4028, 'eval_samples_per_second': 1425.757, 'eval_steps_per_second': 44.911, 'epoch': 2.0}\n"
     ]
    },
    {
     "name": "stderr",
     "output_type": "stream",
     "text": [
      " 43%|████▎     | 1500/3500 [02:23<03:04, 10.84it/s]"
     ]
    },
    {
     "name": "stdout",
     "output_type": "stream",
     "text": [
      "{'loss': 1.0764, 'grad_norm': 75.5252685546875, 'learning_rate': 1.7142857142857142e-05, 'epoch': 3.0}\n"
     ]
    },
    {
     "name": "stderr",
     "output_type": "stream",
     "text": [
      "                                                   \n",
      " 43%|████▎     | 1502/3500 [02:26<16:13,  2.05it/s]"
     ]
    },
    {
     "name": "stdout",
     "output_type": "stream",
     "text": [
      "{'eval_loss': 0.9345896244049072, 'eval_runtime': 1.4111, 'eval_samples_per_second': 1417.325, 'eval_steps_per_second': 44.646, 'epoch': 3.0}\n"
     ]
    },
    {
     "name": "stderr",
     "output_type": "stream",
     "text": [
      " 57%|█████▋    | 2000/3500 [03:12<02:18, 10.85it/s]"
     ]
    },
    {
     "name": "stdout",
     "output_type": "stream",
     "text": [
      "{'loss': 0.7834, 'grad_norm': 15.047965049743652, 'learning_rate': 1.2857142857142857e-05, 'epoch': 4.0}\n"
     ]
    },
    {
     "name": "stderr",
     "output_type": "stream",
     "text": [
      "                                                   \n",
      " 57%|█████▋    | 2002/3500 [03:15<12:01,  2.08it/s]"
     ]
    },
    {
     "name": "stdout",
     "output_type": "stream",
     "text": [
      "{'eval_loss': 0.7170396447181702, 'eval_runtime': 1.4127, 'eval_samples_per_second': 1415.715, 'eval_steps_per_second': 44.595, 'epoch': 4.0}\n"
     ]
    },
    {
     "name": "stderr",
     "output_type": "stream",
     "text": [
      " 71%|███████▏  | 2500/3500 [04:01<01:32, 10.84it/s]"
     ]
    },
    {
     "name": "stdout",
     "output_type": "stream",
     "text": [
      "{'loss': 0.581, 'grad_norm': 16.83642578125, 'learning_rate': 8.571428571428571e-06, 'epoch': 5.0}\n"
     ]
    },
    {
     "name": "stderr",
     "output_type": "stream",
     "text": [
      "                                                   \n",
      " 71%|███████▏  | 2502/3500 [04:04<08:01,  2.07it/s]"
     ]
    },
    {
     "name": "stdout",
     "output_type": "stream",
     "text": [
      "{'eval_loss': 0.6222363710403442, 'eval_runtime': 1.3984, 'eval_samples_per_second': 1430.209, 'eval_steps_per_second': 45.052, 'epoch': 5.0}\n"
     ]
    },
    {
     "name": "stderr",
     "output_type": "stream",
     "text": [
      " 86%|████████▌ | 3000/3500 [04:50<00:46, 10.76it/s]"
     ]
    },
    {
     "name": "stdout",
     "output_type": "stream",
     "text": [
      "{'loss': 0.4409, 'grad_norm': 22.690818786621094, 'learning_rate': 4.2857142857142855e-06, 'epoch': 6.0}\n"
     ]
    },
    {
     "name": "stderr",
     "output_type": "stream",
     "text": [
      "                                                   \n",
      " 86%|████████▌ | 3002/3500 [04:53<04:01,  2.06it/s]"
     ]
    },
    {
     "name": "stdout",
     "output_type": "stream",
     "text": [
      "{'eval_loss': 0.4744887053966522, 'eval_runtime': 1.415, 'eval_samples_per_second': 1413.417, 'eval_steps_per_second': 44.523, 'epoch': 6.0}\n"
     ]
    },
    {
     "name": "stderr",
     "output_type": "stream",
     "text": [
      "100%|██████████| 3500/3500 [05:39<00:00, 10.84it/s]"
     ]
    },
    {
     "name": "stdout",
     "output_type": "stream",
     "text": [
      "{'loss': 0.3578, 'grad_norm': 13.708500862121582, 'learning_rate': 0.0, 'epoch': 7.0}\n"
     ]
    },
    {
     "name": "stderr",
     "output_type": "stream",
     "text": [
      "                                                   \n",
      "100%|██████████| 3500/3500 [05:42<00:00, 10.23it/s]"
     ]
    },
    {
     "name": "stdout",
     "output_type": "stream",
     "text": [
      "{'eval_loss': 0.4676068127155304, 'eval_runtime': 1.4106, 'eval_samples_per_second': 1417.848, 'eval_steps_per_second': 44.662, 'epoch': 7.0}\n",
      "{'train_runtime': 342.0013, 'train_samples_per_second': 327.484, 'train_steps_per_second': 10.234, 'train_loss': 0.9026322283063616, 'epoch': 7.0}\n"
     ]
    },
    {
     "name": "stderr",
     "output_type": "stream",
     "text": [
      "\n"
     ]
    },
    {
     "data": {
      "text/plain": [
       "TrainOutput(global_step=3500, training_loss=0.9026322283063616, metrics={'train_runtime': 342.0013, 'train_samples_per_second': 327.484, 'train_steps_per_second': 10.234, 'total_flos': 1323825039936000.0, 'train_loss': 0.9026322283063616, 'epoch': 7.0})"
      ]
     },
     "execution_count": 16,
     "metadata": {},
     "output_type": "execute_result"
    }
   ],
   "source": [
    "# Hugging Face Trainer expects the data to be in a specific format\n",
    "def helper_function(text, max_length=max_length):\n",
    "    tokens = tokenizer.tokenize(text.lower())\n",
    "    token_ids = [vocab.get(token, vocab[\"<UNK>\"]) for token in tokens]\n",
    "    if len(token_ids) < max_length:\n",
    "        token_ids += [vocab[\"<PAD>\"]] * (max_length - len(token_ids))\n",
    "    else:\n",
    "        token_ids = token_ids[:max_length]\n",
    "    return {\n",
    "        \"input_ids\": token_ids,\n",
    "        \"attention_mask\": [1 if i < len(tokens) else 0 for i in range(max_length)]\n",
    "    }\n",
    "\n",
    "# Preprocess train and validation datasets\n",
    "train_data = [{**helper_function(text), \"label\": label} for text, label in zip(train_df[\"text\"], train_labels)]\n",
    "val_data = [{**helper_function(text), \"label\": label} for text, label in zip(val_df[\"text\"], val_labels)]\n",
    "train_dataset = Dataset.from_list(train_data)\n",
    "val_dataset = Dataset.from_list(val_data)\n",
    "train_dataset.set_format(type=\"torch\", columns=[\"input_ids\", \"attention_mask\", \"label\"])\n",
    "val_dataset.set_format(type=\"torch\", columns=[\"input_ids\", \"attention_mask\", \"label\"])\n",
    "\n",
    "# Define training arguments\n",
    "training_args = TrainingArguments(\n",
    "    output_dir=\"./results\",\n",
    "    eval_strategy=\"epoch\",\n",
    "    learning_rate=3e-5,\n",
    "    per_device_train_batch_size=batch_size,\n",
    "    per_device_eval_batch_size=batch_size,\n",
    "    num_train_epochs=7,\n",
    "    weight_decay=0.01,\n",
    "    save_total_limit=1, # only last checkpoint is saved\n",
    ")\n",
    "\n",
    "# Define model\n",
    "model = BertForSequenceClassification.from_pretrained(\"bert-base-uncased\", num_labels=labels_df[\"Labels\"].size)\n",
    "\n",
    "# Define Trainer\n",
    "trainer = Trainer(\n",
    "    model=model,\n",
    "    args=training_args,\n",
    "    train_dataset=train_dataset,\n",
    "    eval_dataset=val_dataset\n",
    ")\n",
    "\n",
    "# Fine-tune model\n",
    "trainer.train()"
   ]
  },
  {
   "cell_type": "code",
   "execution_count": 17,
   "metadata": {},
   "outputs": [
    {
     "name": "stderr",
     "output_type": "stream",
     "text": [
      "100%|██████████| 63/63 [00:01<00:00, 44.63it/s]"
     ]
    },
    {
     "name": "stdout",
     "output_type": "stream",
     "text": [
      "Accuracy: 0.8490\n",
      "F1 Score: 0.8478\n",
      "Precision: 0.8478\n",
      "Recall: 0.8490\n",
      "\n",
      "Classification Report:\n",
      "              precision    recall  f1-score   support\n",
      "\n",
      "     sadness       0.90      0.90      0.90       581\n",
      "         joy       0.87      0.90      0.89       695\n",
      "        love       0.69      0.70      0.70       159\n",
      "       anger       0.80      0.78      0.79       275\n",
      "        fear       0.85      0.83      0.84       224\n",
      "    surprise       0.73      0.55      0.63        66\n",
      "\n",
      "    accuracy                           0.85      2000\n",
      "   macro avg       0.81      0.78      0.79      2000\n",
      "weighted avg       0.85      0.85      0.85      2000\n",
      "\n",
      "\n",
      "Confusion Matrix:\n",
      "[[524  28   1  22   6   0]\n",
      " [ 17 624  40  11   2   1]\n",
      " [  9  31 112   6   1   0]\n",
      " [ 20  19   5 215  13   3]\n",
      " [ 13   7   1   7 187   9]\n",
      " [  2   6   3   7  12  36]]\n"
     ]
    },
    {
     "name": "stderr",
     "output_type": "stream",
     "text": [
      "\n"
     ]
    }
   ],
   "source": [
    "test_data = [{**helper_function(text), \"label\": label} for text, label in zip(test_df[\"text\"], test_labels)]\n",
    "test_dataset = Dataset.from_list(test_data)\n",
    "test_dataset.set_format(type=\"torch\", columns=[\"input_ids\", \"attention_mask\", \"label\"])\n",
    "\n",
    "# Make predictions\n",
    "predictions = trainer.predict(test_dataset)\n",
    "\n",
    "# Evaluate the model\n",
    "logits = torch.tensor(predictions.predictions) # convert to tensor for torch functions\n",
    "predicted_labels = torch.argmax(logits, dim=1).numpy() # convert to numpy array for sklearn functions\n",
    "\n",
    "accuracy = accuracy_score(test_df[\"label\"], predicted_labels)\n",
    "f1 = f1_score(test_df[\"label\"], predicted_labels, average='weighted')\n",
    "precision = precision_score(test_df[\"label\"], predicted_labels, average='weighted')\n",
    "recall = recall_score(test_df[\"label\"], predicted_labels, average='weighted')\n",
    "\n",
    "class_report = classification_report(test_df[\"label\"], predicted_labels, target_names=list(label_mapping.values()))\n",
    "conf_matrix = confusion_matrix(test_df[\"label\"], predicted_labels)\n",
    "\n",
    "print(f\"Accuracy: {accuracy:.4f}\")\n",
    "print(f\"F1 Score: {f1:.4f}\")\n",
    "print(f\"Precision: {precision:.4f}\")\n",
    "print(f\"Recall: {recall:.4f}\")\n",
    "print(\"\\nClassification Report:\")\n",
    "print(class_report)\n",
    "print(\"\\nConfusion Matrix:\")\n",
    "print(conf_matrix)"
   ]
  }
 ],
 "metadata": {
  "kernelspec": {
   "display_name": "deep",
   "language": "python",
   "name": "python3"
  },
  "language_info": {
   "codemirror_mode": {
    "name": "ipython",
    "version": 3
   },
   "file_extension": ".py",
   "mimetype": "text/x-python",
   "name": "python",
   "nbconvert_exporter": "python",
   "pygments_lexer": "ipython3",
   "version": "3.12.7"
  }
 },
 "nbformat": 4,
 "nbformat_minor": 2
}
